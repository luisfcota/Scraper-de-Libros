{
  "nbformat": 4,
  "nbformat_minor": 0,
  "metadata": {
    "colab": {
      "provenance": [],
      "authorship_tag": "ABX9TyNbukiRIacvnCgt6pelsOuN",
      "include_colab_link": true
    },
    "kernelspec": {
      "name": "python3",
      "display_name": "Python 3"
    },
    "language_info": {
      "name": "python"
    }
  },
  "cells": [
    {
      "cell_type": "markdown",
      "metadata": {
        "id": "view-in-github",
        "colab_type": "text"
      },
      "source": [
        "<a href=\"https://colab.research.google.com/github/luisfcota/Scraper-de-Libros/blob/main/Riesgo_Credito.ipynb\" target=\"_parent\"><img src=\"https://colab.research.google.com/assets/colab-badge.svg\" alt=\"Open In Colab\"/></a>"
      ]
    },
    {
      "cell_type": "markdown",
      "source": [
        "1- Define una función llamada sumar que tome dos argumentos, numero1 y numero2. Esta función debe calcular la suma de los dos números y devolver el resultado.\n",
        "\n",
        "2- Dentro de la función sumar, utiliza el operador + para sumar numero1 y numero2.\n",
        "\n",
        "3- Define otra función llamada calcular_cuadrado que tome un solo argumento numero. Esta función debe calcular el cuadrado del número y devolver el resultado.\n",
        "\n",
        "4- Dentro de la función calcular_cuadrado, utiliza el operador ** para calcular el cuadrado de numero.\n",
        "\n",
        "5- Llama a la función sumar pasando dos números de tu elección como argumentos. Captura el resultado devuelto por la función en una variable llamada resultado_suma.\n",
        "\n",
        "6- Llama a la función calcular_cuadrado pasando resultado_suma como argumento. Captura el resultado devuelto por la función en una variable llamada resultado_cuadrado.\n",
        "\n",
        "7- Utiliza la función print() para mostrar en la consola el resultado de la suma y el resultado del cuadrado. Asegúrate de incluir mensajes descriptivos para que sea claro qué se está mostrando."
      ],
      "metadata": {
        "id": "EgxPHYbrlmLB"
      }
    },
    {
      "cell_type": "code",
      "execution_count": null,
      "metadata": {
        "id": "NnjYZqpwh1_J"
      },
      "outputs": [],
      "source": [
        "def Sumar(numero1, numero2):\n",
        "  suma = numero1 + numero2\n",
        "  return suma"
      ]
    },
    {
      "cell_type": "code",
      "source": [
        "def calcular_cuadrado(numero):\n",
        "  resultado = numero ** 2\n",
        "  return resultado"
      ],
      "metadata": {
        "id": "nzj8RbISmL-c"
      },
      "execution_count": null,
      "outputs": []
    },
    {
      "cell_type": "code",
      "source": [
        "resultado_suma = Sumar(50, 50)\n",
        "resultado_cuadrado = calcular_cuadrado(resultado_suma)\n",
        "\n",
        "print(resultado_cuadrado)"
      ],
      "metadata": {
        "colab": {
          "base_uri": "https://localhost:8080/"
        },
        "id": "l9uRrlJfmrZu",
        "outputId": "ed6e49a0-4430-47fd-9aad-d441e19aac4f"
      },
      "execution_count": null,
      "outputs": [
        {
          "output_type": "stream",
          "name": "stdout",
          "text": [
            "10000\n"
          ]
        }
      ]
    },
    {
      "cell_type": "markdown",
      "source": [
        "1-Define una función llamada \"calificar\" que tome un argumento llamado \"puntuacion\".\n",
        "\n",
        "2- Dentro de la función \"calificar\", utiliza una estructura condicional para asignar una calificación en función de la puntuación proporcionada. Puedes utilizar la siguiente escala de calificaciones:\n",
        "\n",
        "Si la puntuación es igual o mayor que 90, asigna la calificación \"A\".\n",
        "\n",
        "Si la puntuación es igual o mayor que 80 pero menor que 90, asigna la calificación \"B\".\n",
        "\n",
        "Si la puntuación es igual o mayor que 70 pero menor que 80, asigna la calificación \"C\".\n",
        "\n",
        "Si la puntuación es igual o mayor que 60 pero menor que 70, asigna la calificación \"D\".\n",
        "\n",
        "En cualquier otro caso, asigna la calificación \"F\".\n",
        "\n",
        "3- Asegúrate de que la función \"calificar\" devuelva la calificación calculada.\n",
        "\n",
        "4- Fuera de la función, llama a la función \"calificar\" con una puntuación de ejemplo, por ejemplo, 75, y almacena el resultado en una variable llamada \"calificacion_estudiante\".\n",
        "\n",
        "5- Utiliza la función \"print\" para mostrar la calificación en la consola. Puedes utilizar la siguiente línea de código para imprimir la calificación:\n",
        "\n",
        "6- print(\"La calificación es:\", calificacion_estudiante)\n",
        "Ejecuta el programa y verifica que la calificación impresa coincida con la calificación esperada para la puntuación de ejemplo.\n",
        "\n",
        "7- Recuerda que debes crear la función \"calificar\" y llamarla con la puntuación proporcionada. La función debe calcular y devolver la calificación, y la impresión en la consola debe mostrar la calificación calculada.\n"
      ],
      "metadata": {
        "id": "8N5xmRrtqohZ"
      }
    },
    {
      "cell_type": "code",
      "source": [
        "def calificar(puntuacion):\n",
        "  if puntuacion >= 90:\n",
        "    return \"A\"\n",
        "  elif puntuacion >= 80:\n",
        "    return \"B\"\n",
        "  elif puntuacion >= 80:\n",
        "    return \"C\"\n",
        "  elif puntuacion >= 70:\n",
        "    return \"D\"\n",
        "  else:\n",
        "    return \"F\""
      ],
      "metadata": {
        "id": "PT4smsjvrHO6"
      },
      "execution_count": null,
      "outputs": []
    },
    {
      "cell_type": "code",
      "source": [
        "\n",
        "calificacion_estudiante = calificar(75)\n",
        "\n",
        "print(f\"La calificación es: {calificacion_estudiante}\")"
      ],
      "metadata": {
        "colab": {
          "base_uri": "https://localhost:8080/"
        },
        "id": "xmkx9tcksr2J",
        "outputId": "7a6fc0d6-58f8-4873-f177-950fb10a721e"
      },
      "execution_count": null,
      "outputs": [
        {
          "output_type": "stream",
          "name": "stdout",
          "text": [
            "La calificación es: D\n"
          ]
        }
      ]
    },
    {
      "cell_type": "markdown",
      "source": [
        "Desarrollar una función en Python que calcule el impuesto a pagar basándose en el salario anual. Utilizarás estructuras condicionales (if, elif, else) para aplicar diferentes tasas de impuestos según el rango del salario.\n",
        "\n",
        "Descripción del Problema\n",
        "\n",
        "En este ejercicio, simularás un sistema de impuestos simplificado. Debes escribir una función llamada calcular_impuesto que reciba como parámetro un número representando el salario anual de una persona y retorne el impuesto a pagar.\n",
        "\n",
        "Las tasas de impuestos son las siguientes:\n",
        "\n",
        "10% para salarios hasta $30,000.\n",
        "\n",
        "20% para salarios entre $30,001 y $50,000.\n",
        "\n",
        "30% para salarios entre $50,001 y $70,000.\n",
        "\n",
        "35% para salarios superiores a $70,000.\n",
        "\n",
        "Tareas a Realizar\n",
        "\n",
        "Definir la Función: Escribe la función calcular_impuesto que acepte un parámetro (el salario).\n",
        "\n",
        "Aplicar Condicionales: Dentro de la función, utiliza declaraciones if, elif y else para aplicar las tasas de impuestos adecuadas según los rangos de salario indicados.\n",
        "\n",
        "Retornar el Resultado: La función debe calcular y retornar el monto del impuesto a pagar.\n",
        "\n",
        "Probar la Función: Una vez definida la función, prueba su funcionamiento con diferentes valores de salario para asegurarte de que el cálculo del impuesto es correcto.\n",
        "\n",
        "Ejemplo de Uso de la Función\n",
        "\n",
        "salario = 45000\n",
        "impuesto = calcular_impuesto(salario)\n",
        "print(\"El impuesto para un salario de $\", salario, \" es de $\", impuesto)\n",
        "Consideraciones\n",
        "\n",
        "Asegúrate de que tu función maneje correctamente los límites de cada rango salarial.\n",
        "\n",
        "Recuerda probar tu función con diferentes valores para garantizar su correcto funcionamiento.\n",
        "\n",
        "Utiliza la consola de Python en Udemy para escribir y probar tu código.\n",
        "\n",
        "Finalización\n",
        "\n",
        "Una vez que hayas escrito y probado tu función satisfactoriamente, habrás completado el ejercicio. Este ejercicio te ayudará a comprender cómo las funciones pueden interactuar con estructuras condicionales para resolver problemas prácticos."
      ],
      "metadata": {
        "id": "k7UeaoJ4tbR0"
      }
    },
    {
      "cell_type": "code",
      "source": [
        "def calcular_impuesto(salario_anual):\n",
        "  if salario_anual <= 30000:\n",
        "    tasa = 0.10\n",
        "  elif salario_anual <= 50000:\n",
        "    tasa = 0.20\n",
        "  elif salario_anual <= 70000:\n",
        "    tasa = 0.30\n",
        "  else:\n",
        "    tasa = 0.35\n",
        "\n",
        "  impuesto = salario_anual * tasa\n",
        "  return impuesto\n",
        "\n",
        "print(f\"el impuesto a pagar es de: {calcular_impuesto(45000)}\")"
      ],
      "metadata": {
        "id": "aTbF3p9ote_B",
        "colab": {
          "base_uri": "https://localhost:8080/"
        },
        "outputId": "53d59ef4-e375-4308-efd4-7b40bf32975d"
      },
      "execution_count": null,
      "outputs": [
        {
          "output_type": "stream",
          "name": "stdout",
          "text": [
            "el impuesto a pagar es de: 9000.0\n"
          ]
        }
      ]
    },
    {
      "cell_type": "markdown",
      "source": [
        "Define una función llamada calcular_interes_compuesto que tome tres parámetros: principal (el monto principal de la inversión), tasa_de_interes (la tasa de interés anual en decimal) y tiempo (el número de años que la inversión estará en crecimiento).\n",
        "\n",
        "Dentro de la función, calcula el valor futuro de la inversión utilizando la fórmula del interés compuesto:\n",
        "\n",
        "valor_futuro = principal * (1 + tasa_de_interes)**tiempo\n",
        "Esta fórmula calcula el valor futuro de la inversión después de cierto número de años teniendo en cuenta la tasa de interés anual.\n",
        "\n",
        "Utiliza la función round para redondear el valor_futuro a dos decimales. Esto es importante para obtener un valor monetario más realista.\n",
        "\n",
        "Imprime el valor_futuro redondeado en la consola. Puedes usar la función print para esto.\n",
        "\n",
        "Recuerda que los parámetros principal, tasa_de_interes, y tiempo serán proporcionados cuando llames a la función calcular_interes_compuesto.\n",
        "\n",
        "Pista: Aquí tienes el código para imprimir el valor_futuro redondeado:\n",
        "\n",
        "print(\"El valor futuro de la inversión es:\", round(valor_futuro, 2))\n",
        "Tu tarea es escribir la función calcular_interes_compuesto y usarla para calcular e imprimir el valor futuro de una inversión. ¡Buena suerte!"
      ],
      "metadata": {
        "id": "wS2grWmf8aEU"
      }
    },
    {
      "cell_type": "code",
      "source": [
        "def calcular_interes_compuesto(principal, tasa, tiempo):\n",
        "  valor_futuro = principal * (1 + tasa) ** tiempo\n",
        "  return valor_futuro"
      ],
      "metadata": {
        "id": "4pULZ7cT8bQK"
      },
      "execution_count": null,
      "outputs": []
    },
    {
      "cell_type": "code",
      "source": [
        "print(f\"El valor futuro es: {round(calcular_interes_compuesto(1000, .10, 5))}\")"
      ],
      "metadata": {
        "id": "hb5mPpi59Vc8",
        "colab": {
          "base_uri": "https://localhost:8080/"
        },
        "outputId": "7ee0ee99-7e21-4625-e611-1e0015d2e8ce"
      },
      "execution_count": null,
      "outputs": [
        {
          "output_type": "stream",
          "name": "stdout",
          "text": [
            "El valor futuro es: 1611\n"
          ]
        }
      ]
    },
    {
      "cell_type": "markdown",
      "source": [
        "Paso 1: Definir una función \"doble\"\n",
        "\n",
        "Define una función llamada \"doble\" que tome un número como argumento y devuelva el doble de ese número.\n",
        "\n",
        "Asegúrate de que la función esté correctamente definida.\n",
        "\n",
        "Paso 2: Definir una función \"calcular_promedio\"\n",
        "\n",
        "Define otra función llamada \"calcular_promedio\" que tome dos números como argumentos y devuelva el promedio de esos números.\n",
        "\n",
        "Asegúrate de que la función esté correctamente definida.\n",
        "\n",
        "Paso 3: Llamando a las funciones y almacenando resultados\n",
        "\n",
        "Llama a la función \"doble\" y pásale un número, por ejemplo, 7. Almacena el resultado en una variable llamada \"resultado_doble\".\n",
        "\n",
        "Llama a la función \"calcular_promedio\" y pásale dos números, por ejemplo, 12 y 18. Almacena el resultado en una variable llamada \"resultado_promedio\".\n",
        "\n",
        "Paso 4: Imprimir resultados\n",
        "\n",
        "Utiliza el siguiente código para imprimir los resultados:\n",
        "\n",
        "pythonCopy code\n",
        "print(\"El doble de\", numero_a_doblar, \"es:\", resultado_doble)\n",
        "print(\"El promedio de\", numero1, \"y\", numero2, \"es:\", resultado_promedio)\n",
        "Paso 5: Verificar resultados\n",
        "\n",
        "Ejecuta tu código en la consola a la derecha de estas instrucciones.\n",
        "\n",
        "Asegúrate de que los resultados impresos sean correctos."
      ],
      "metadata": {
        "id": "013G-UOt-RCT"
      }
    },
    {
      "cell_type": "code",
      "source": [
        "def doble(numero):\n",
        "  doblar = numero * 2\n",
        "  return doblar"
      ],
      "metadata": {
        "id": "VQ7Vlc_h-Ru3"
      },
      "execution_count": null,
      "outputs": []
    },
    {
      "cell_type": "code",
      "source": [
        "def promedio(numero1, numero2):\n",
        "  suma = numero1 + numero2\n",
        "  prom = suma / 2\n",
        "  return prom"
      ],
      "metadata": {
        "id": "MVA5810z_r2p"
      },
      "execution_count": null,
      "outputs": []
    },
    {
      "cell_type": "code",
      "source": [
        "resultado_doble = doble(10)\n",
        "resultado_promedio = promedio(56, 89)\n",
        "\n",
        "print(f\"resultado del doble: {resultado_doble}\")\n",
        "print(f\"el restuldado del promedio: {resultado_promedio}\")\n"
      ],
      "metadata": {
        "colab": {
          "base_uri": "https://localhost:8080/"
        },
        "id": "83c8aUWeACPu",
        "outputId": "1ac0a53e-1065-496f-a1d1-58258400269a"
      },
      "execution_count": null,
      "outputs": [
        {
          "output_type": "stream",
          "name": "stdout",
          "text": [
            "resultado del doble: 20\n",
            "el restuldado del promedio: 72.5\n"
          ]
        }
      ]
    },
    {
      "cell_type": "markdown",
      "source": [
        "En este ejercicio, vamos a utilizar la función incorporada en Python llamada abs, que se utiliza para calcular el valor absoluto de un número. El valor absoluto de un número es su distancia desde el cero en la recta numérica, sin importar su signo. Por ejemplo, el valor absoluto de -5 es 5, y el valor absoluto de 5 es también 5.\n",
        "\n",
        "Tu tarea es crear una función llamada diferencia_absoluta que acepte dos números como argumentos y calcule la diferencia absoluta entre ellos utilizando la función abs.\n",
        "\n",
        "Aquí tienes las instrucciones para el ejercicio:\n",
        "\n",
        "Define la función \"diferencia_absoluta\" que toma dos números como argumentos.\n",
        "\n",
        "Calcula la diferencia absoluta entre los dos números utilizando la función \"abs\".\n",
        "\n",
        "Almacena el resultado en una variable llamada \"resultado\".\n",
        "\n",
        "Llama a la función \"diferencia_absoluta\" y pasa dos números de tu elección como argumentos.\n",
        "\n",
        "Almacena el resultado de la llamada en una variable.\n",
        "\n",
        "Utiliza el siguiente código de impresión (sin las comillas) para mostrar el resultado en la consola:\n",
        "\n",
        "print(\"La diferencia absoluta entre\", numero1, \"y\", numero2, \"es:\", resultado)\n",
        "Tu tarea es completar la función \"diferencia_absoluta\" de manera que calcule correctamente la diferencia absoluta entre los dos números. Utiliza la función \"abs\" para hacerlo. Luego, llama a la función con dos números de ejemplo y muestra el resultado en la consola.\n",
        "\n",
        "Recuerda que la función \"abs\" toma un solo argumento y devuelve su valor absoluto. La diferencia absoluta entre dos números se calcula tomando el valor absoluto de su diferencia."
      ],
      "metadata": {
        "id": "lWTZkGQHEzrP"
      }
    },
    {
      "cell_type": "code",
      "source": [
        "def diferencia_abs(numero1, numero2):\n",
        "  resultado = abs(numero1 - numero2)\n",
        "  return resultado"
      ],
      "metadata": {
        "id": "_ZCfn92YE1eP"
      },
      "execution_count": null,
      "outputs": []
    },
    {
      "cell_type": "code",
      "source": [
        "numero1 = 5\n",
        "numero2 = 500\n",
        "\n",
        "print(f\"la diferencia abs entre {numero1} y {numero2} es:{diferencia_abs(numero1, numero2)}\")"
      ],
      "metadata": {
        "id": "ezEHcDRdNYFP"
      },
      "execution_count": null,
      "outputs": []
    },
    {
      "cell_type": "markdown",
      "source": [
        "Paso 1: Definir una Función de Obtención de Tasa de Interés\n",
        "\n",
        "Primero, vamos a definir una función llamada obtener_tasa_interes(perfil_riesgo) que tomará el perfil de riesgo como argumento y devolverá la tasa de interés correspondiente. El perfil de riesgo puede ser \"conservador\", \"moderado\" o \"agresivo\". A cada perfil de riesgo se le asignará una tasa de interés diferente:\n",
        "\n",
        "Conservador: 3%\n",
        "\n",
        "Moderado: 5%\n",
        "\n",
        "Agresivo: 8%\n",
        "\n",
        "Utiliza una declaración if y elif en esta función para determinar la tasa de interés en función del perfil de riesgo.\n",
        "\n",
        "Paso 2: Definir la Función Principal de Cálculo\n",
        "\n",
        "Ahora, vamos a definir la función principal llamada calcular_interés_compuesto(principal, perfil_riesgo, num_anios) que tomará tres argumentos:\n",
        "\n",
        "principal: la cantidad inicial de la inversión.\n",
        "\n",
        "perfil_riesgo: el perfil de riesgo del inversor (conservador, moderado o agresivo).\n",
        "\n",
        "num_anios: el número de años durante los cuales se invertirá el dinero.\n",
        "\n",
        "Dentro de esta función, utiliza la función anidada obtener_tasa_interes para obtener la tasa de interés correspondiente al perfil de riesgo.\n",
        "\n",
        "Luego, calcula el valor futuro de la inversión con interés compuesto utilizando la fórmula:\n",
        "\n",
        "valor_futuro = principal * (1 + tasa_interes / 100) ** num_anios\n",
        "Recuerda redondear el valor_futuro a dos decimales utilizando la función round().\n",
        "\n",
        "Paso 3: Probar la Función\n",
        "\n",
        "Después de definir ambas funciones, utiliza valores de ejemplo para principal, perfil_riesgo y num_anios. Llama a la función calcular_interés_compuesto() con estos valores y almacena el resultado en una variable llamada valor_futuro_ejemplo.\n",
        "\n",
        "Paso 4: Mostrar el Resultado\n",
        "\n",
        "Finalmente, utiliza la función print() para mostrar el resultado en la consola. Imprime un mensaje que indique el valor futuro de la inversión.\n",
        "\n",
        "# Muestra el valor futuro en la consola\n",
        "print(\"El valor futuro de la inversión es:\", valor_futuro_ejemplo)"
      ],
      "metadata": {
        "id": "ddFPBz1OPWvR"
      }
    },
    {
      "cell_type": "code",
      "source": [
        "def obtener_tasa_insteres(perfil_riesgo):\n",
        "  if perfil_riesgo == \"conservador\":\n",
        "    tasa = 0.3\n",
        "  elif perfil_riesgo == \"moderado\":\n",
        "    tasa = 0.5\n",
        "  elif perfil_riesgo == \"agresivo\":\n",
        "    tasa = 0.8\n",
        "\n",
        "  return tasa"
      ],
      "metadata": {
        "id": "2iw6EbNXPXLE"
      },
      "execution_count": null,
      "outputs": []
    },
    {
      "cell_type": "code",
      "source": [
        "def calcular_interés_compuesto(principal, perfil_riesgo, num_años):\n",
        "  valor_futuro = principal * (1 + perfil_riesgo / 100) ** num_años\n",
        "\n",
        "  return round(valor_futuro)"
      ],
      "metadata": {
        "id": "i2L7T-PwUZ7k"
      },
      "execution_count": null,
      "outputs": []
    },
    {
      "cell_type": "code",
      "source": [
        "perfil_riesgo = obtener_tasa_insteres(\"agresivo\")\n",
        "\n",
        "resultado_final = calcular_interés_compuesto(7000, perfil_riesgo, 3)\n",
        "\n",
        "print(f\"el valor futuro de la inversión es: {resultado_final}\")"
      ],
      "metadata": {
        "colab": {
          "base_uri": "https://localhost:8080/"
        },
        "id": "HG9F6yLnVw1m",
        "outputId": "2d0ccfc9-1197-4c3d-9853-41c434b61e5f"
      },
      "execution_count": null,
      "outputs": [
        {
          "output_type": "stream",
          "name": "stdout",
          "text": [
            "el valor futuro de la inversión es: 7169\n"
          ]
        }
      ]
    },
    {
      "cell_type": "markdown",
      "source": [
        "Define una función llamada calcular_cuadrados que tome una lista de números como argumento.\n",
        "\n",
        "Dentro de la función, inicializa una lista vacía llamada cuadrados.\n",
        "\n",
        "Utiliza un bucle for para recorrer cada número en la lista de entrada.\n",
        "\n",
        "Dentro del bucle, calcula el cuadrado de cada número y guárdalo en la lista cuadrados.\n",
        "\n",
        "Devuelve la lista cuadrados que contiene los cuadrados de los números.\n",
        "\n",
        "Fuera de la función, crea una lista llamada numeros que contenga los siguientes números: [1, 2, 3, 4, 5].\n",
        "\n",
        "Llama a la función calcular_cuadrados pasando la lista numeros como argumento y guarda el resultado en una variable llamada cuadrados_calculados.\n",
        "\n",
        "Imprime la lista cuadrados_calculados para mostrar los cuadrados de los números.\n",
        "\n",
        "Ejemplo:\n",
        "\n",
        "Si ejecutas el programa con la lista numeros como se muestra en el ejemplo, deberías obtener la siguiente salida:\n",
        "\n",
        "lessCopy code\n",
        "Cuadrados de los números: [1, 4, 9, 16, 25]\n",
        "Asegúrate de que tu código funcione correctamente y devuelva los cuadrados de los números en la lista de entrada."
      ],
      "metadata": {
        "id": "fdG2-kgxB-yY"
      }
    },
    {
      "cell_type": "code",
      "source": [
        "def calcular_cuadrados(lista):\n",
        "    cuadrados = []\n",
        "\n",
        "    for numero in lista:\n",
        "        cuadrados.append(numero ** 2)\n",
        "\n",
        "    return cuadrados\n",
        "\n",
        "numeros = [1, 2, 3, 4, 5]\n",
        "\n",
        "cuadrados_calculados = calcular_cuadrados(numeros)\n",
        "\n",
        "print(f\"Cuadrados de los números: {cuadrados_calculados}\")"
      ],
      "metadata": {
        "colab": {
          "base_uri": "https://localhost:8080/"
        },
        "id": "6SXubxmfB_Uc",
        "outputId": "22802642-9301-4da2-d390-d1abfbd42d75"
      },
      "execution_count": null,
      "outputs": [
        {
          "output_type": "stream",
          "name": "stdout",
          "text": [
            "Cuadrados de los números: [1, 4, 9, 16, 25]\n"
          ]
        }
      ]
    },
    {
      "cell_type": "markdown",
      "source": [
        "Define tres variables:\n",
        "\n",
        "inversion_inicial: El monto inicial de tu inversión (por ejemplo, $10,000).\n",
        "\n",
        "tasa_interes_anual: La tasa de interés anual como un número decimal (por ejemplo, 0.10 para el 10% de interés anual).\n",
        "\n",
        "meta_ahorro: La cantidad de dinero que deseas alcanzar (por ejemplo, $20,000).\n",
        "\n",
        "Utiliza un bucle while para calcular cuántos meses te tomará alcanzar tu meta de ahorro. Inicializa una variable meses en 0.\n",
        "\n",
        "Dentro del bucle while, actualiza la inversión inicial multiplicándola por la tasa de interés mensual (divide la tasa anual por 12, ya que estamos trabajando con meses).\n",
        "\n",
        "Incrementa la variable meses en 1 en cada iteración del bucle.\n",
        "\n",
        "Continúa el bucle while hasta que la inversión inicial sea igual o mayor que la meta de ahorro.\n",
        "\n",
        "Después de salir del bucle while, imprime un mensaje que indique cuántos meses te tomó alcanzar tu meta de ahorro. Puedes formatear el mensaje de la siguiente manera: \"Te tomará X meses alcanzar una inversión de $Y\", donde X es el número de meses y Y es la meta de ahorro.\n",
        "\n",
        "Ejecuta el código y verifica si logras alcanzar tu meta de ahorro en el tiempo esperado.\n",
        "\n",
        "Recuerda que en cada iteración del bucle, la inversión inicial se incrementa mensualmente según la tasa de interés. ¡Buena suerte en tu planificación financiera!"
      ],
      "metadata": {
        "id": "mTc-hvwzFIce"
      }
    },
    {
      "cell_type": "code",
      "source": [
        "inversion_inicial = 10000\n",
        "tasa_interes_anual = 0.10\n",
        "meta_ahorro = 20000\n",
        "meses = 0"
      ],
      "metadata": {
        "id": "Ko7dSnEQFI3v"
      },
      "execution_count": null,
      "outputs": []
    },
    {
      "cell_type": "code",
      "source": [
        "tasa_interes_mensual = tasa_interes_anual / 12\n",
        "\n",
        "while inversion_inicial < meta_ahorro:\n",
        "    inversion_inicial += inversion_inicial * tasa_interes_mensual\n",
        "    meses += 1\n",
        "\n",
        "print(f\"te tomara {meses} meses llegar a {meta_ahorro} de ahorro\")"
      ],
      "metadata": {
        "colab": {
          "base_uri": "https://localhost:8080/"
        },
        "id": "PjpAaIyTFyn_",
        "outputId": "9277c434-430f-4d15-e75a-aa1777adfe9c"
      },
      "execution_count": null,
      "outputs": [
        {
          "output_type": "stream",
          "name": "stdout",
          "text": [
            "te tomara 84 meses llegar a 20000 de ahorro\n"
          ]
        }
      ]
    },
    {
      "cell_type": "markdown",
      "source": [
        "Supongamos que has invertido en bonos emitidos por un centro comercial recientemente desarrollado. Tu inversión inicial fue de $10,000 y la tasa de retorno anual es del 13.5%.\n",
        "\n",
        "Tu tarea consiste en escribir un programa en Python que calcule y muestre el valor futuro de tu inversión después de un período de 5 años.\n",
        "\n",
        "Asegúrate de usar la fórmula para el cálculo del valor futuro de una inversión, que se calcula de la siguiente manera:\n",
        "\n",
        "Valor Futuro = Inversión Inicial * (1 + Tasa de Interés Anual)^Número de Años\n",
        "Donde:\n",
        "\n",
        "Inversión Inicial es la cantidad de dinero invertida inicialmente.\n",
        "\n",
        "Tasa de Interés Anual es la tasa de retorno anual expresada como un decimal (por ejemplo, 0.135 para el 13.5%).\n",
        "\n",
        "Número de Años es el período de tiempo para el cual deseas calcular el valor futuro.\n",
        "\n",
        "Imprime el valor futuro de tu inversión en bonos después de 5 años en el formato siguiente:\n",
        "\n",
        "El valor futuro de la inversión después de 5 años es: [valor calculado]\n",
        "Simplifica el programa para que solo realice este cálculo y muestre el resultado. No es necesario solicitar entrada del usuario ni incluir comentarios detallados.\n",
        "\n",
        "¡Buena suerte con tu tarea! Si tienes alguna pregunta o necesitas ayuda adicional, no dudes en preguntar."
      ],
      "metadata": {
        "id": "giSlHcgUKCDv"
      }
    },
    {
      "cell_type": "code",
      "source": [
        "inversion_inicial_2 = 10000\n",
        "retorno_anual = 0.135\n",
        "años = 13\n",
        "\n",
        "Valor_futuro2 = inversion_inicial_2 * (1 + retorno_anual) ** años\n",
        "\n",
        "print(Valor_futuro2)"
      ],
      "metadata": {
        "colab": {
          "base_uri": "https://localhost:8080/"
        },
        "id": "Bi615laSKCfi",
        "outputId": "0c316dc2-4d90-4a49-ee03-194add405f31"
      },
      "execution_count": null,
      "outputs": [
        {
          "output_type": "stream",
          "name": "stdout",
          "text": [
            "51873.57742943481\n"
          ]
        }
      ]
    },
    {
      "cell_type": "markdown",
      "source": [
        "En este ejercicio, crearás una función llamada calcular_depreciacion_anual que tomará tres parámetros como entrada: valor_inicial, vida_util, y tasa_depreciacion. Esta función calculará la depreciación anual de un activo a lo largo de su vida útil y mostrará una lista de los valores del activo al final de cada año.\n",
        "\n",
        "Aquí están los detalles de los parámetros:\n",
        "\n",
        "valor_inicial: El valor inicial del activo.\n",
        "\n",
        "vida_util: La vida útil del activo en años.\n",
        "\n",
        "tasa_depreciacion: La tasa de depreciación anual como un número decimal (por ejemplo, 0.15 para el 15%).\n",
        "\n",
        "Pasos:\n",
        "\n",
        "Inicializa una lista vacía llamada valores_anuales para almacenar los valores del activo al final de cada año.\n",
        "\n",
        "Utiliza un bucle for con range(vida_util) para iterar a lo largo de la vida útil del activo.\n",
        "\n",
        "En cada iteración del bucle, calcula la depreciación anual restando al valor_inicial el producto de valor_inicial y tasa_depreciacion.\n",
        "\n",
        "Redondea el resultado a dos decimales usando la función round().\n",
        "\n",
        "Agrega el valor calculado a la lista valores_anuales.\n",
        "\n",
        "Después de completar el bucle, utiliza otro bucle for para imprimir la lista de valores anuales. Asegúrate de incluir el año correspondiente en la impresión.\n",
        "\n",
        "Ejemplo de Uso:\n",
        "\n",
        "Aquí tienes un ejemplo de uso de la función:\n",
        "\n",
        "valor_inicial_activo = 10000  # Valor inicial del activo\n",
        "vida_util_activo = 5         # Vida útil en años\n",
        "tasa_depreciacion_anual = 0.15  # Tasa de depreciación anual del 15%\n",
        "\n",
        "calcular_depreciacion_anual(valor_inicial_activo, vida_util_activo, tasa_depreciacion_anual)\n",
        "Este ejemplo calculará y mostrará la depreciación anual del activo durante 5 años con una tasa de depreciación del 15%.\n",
        "\n",
        "Nota: Puedes modificar los valores de valor_inicial_activo, vida_util_activo, y tasa_depreciacion_anual para realizar cálculos con diferentes activos."
      ],
      "metadata": {
        "id": "HkwZkRzNM87-"
      }
    },
    {
      "cell_type": "code",
      "source": [
        "def calcular_depreciacion_anual(valor_inicial, vida_util, tasa_depreciacion):\n",
        "  valores_anuales = []\n",
        "\n",
        "  for año in range(1, vida_util + 1):\n",
        "        valor_inicial -= valor_inicial * tasa_depreciacion\n",
        "        valor_redondeado = round(valor_inicial, 2)\n",
        "        valores_anuales.append(valor_redondeado)\n",
        "\n",
        "  for n, valor in enumerate(valores_anuales, start=1):\n",
        "        print(f\"Año {n}: ${round(valor)}\")"
      ],
      "metadata": {
        "id": "wsvAYLohM9cB"
      },
      "execution_count": null,
      "outputs": []
    },
    {
      "cell_type": "code",
      "source": [
        "valor_inicial_activo = 3500\n",
        "vida_util_activo = 15\n",
        "tasa_depreciacion_anual = 0.15\n",
        "\n",
        "calcular_depreciacion_anual(valor_inicial_activo, vida_util_activo, tasa_depreciacion_anual)"
      ],
      "metadata": {
        "colab": {
          "base_uri": "https://localhost:8080/"
        },
        "id": "x-syVNcwOe7b",
        "outputId": "92a93a12-16a9-4589-d2b9-436921e7e6a7"
      },
      "execution_count": null,
      "outputs": [
        {
          "output_type": "stream",
          "name": "stdout",
          "text": [
            "Año 1: $2975\n",
            "Año 2: $2529\n",
            "Año 3: $2149\n",
            "Año 4: $1827\n",
            "Año 5: $1553\n",
            "Año 6: $1320\n",
            "Año 7: $1122\n",
            "Año 8: $954\n",
            "Año 9: $811\n",
            "Año 10: $689\n",
            "Año 11: $586\n",
            "Año 12: $498\n",
            "Año 13: $423\n",
            "Año 14: $360\n",
            "Año 15: $306\n"
          ]
        }
      ]
    },
    {
      "cell_type": "markdown",
      "source": [
        "Inicializa una lista llamada transacciones que contenga las siguientes tuplas. Cada tupla representa una transacción financiera y contiene la fecha, el tipo de transacción, el monto y el activo involucrado:\n",
        "\n",
        "transacciones = [\n",
        "    (\"2023-01-10\", \"Compra\", 1000, \"AAPL\"),\n",
        "    (\"2023-02-15\", \"Venta\", 500, \"TSLA\"),\n",
        "    (\"2023-03-20\", \"Compra\", 800, \"GOOGL\"),\n",
        "    (\"2023-04-05\", \"Venta\", 300, \"MSFT\"),\n",
        "]\n",
        "Crea una variable llamada saldo e inicialízala en 0. Esta variable se utilizará para realizar un seguimiento del saldo total después de las transacciones.\n",
        "\n",
        "Utiliza un bucle for para recorrer todas las transacciones en la lista transacciones. En cada iteración, desempaqueta la tupla en las siguientes variables: fecha, tipo, monto y activo.\n",
        "\n",
        "Dentro del bucle, utiliza una estructura condicional para verificar si el tipo de transacción es \"Compra\" o \"Venta\". Si es una \"Compra\", resta el monto al saldo actual. Si es una \"Venta\", suma el monto al saldo actual.\n",
        "\n",
        "Después de procesar todas las transacciones, imprime el saldo total. Usa la siguiente línea de código para imprimir el saldo total en formato de dólares:\n",
        "\n",
        "print(\"Saldo Total después de Transacciones: $\", saldo)\n",
        "Nota: Asegúrate de que tu programa calcule correctamente el saldo total después de todas las transacciones y que la salida coincida con el formato especificado."
      ],
      "metadata": {
        "id": "OyLt502O5pdG"
      }
    },
    {
      "cell_type": "code",
      "source": [
        "transacciones = [\n",
        "    (\"2023-01-10\", \"Compra\", 1000, \"AAPL\"),\n",
        "    (\"2023-02-15\", \"Venta\", 500, \"TSLA\"),\n",
        "    (\"2023-03-20\", \"Compra\", 800, \"GOOGL\"),\n",
        "    (\"2023-04-05\", \"Venta\", 300, \"MSFT\"), ]\n",
        "\n",
        "saldo = 0\n",
        "\n",
        "for fecha, tipo, monto, activo in transacciones:\n",
        "  if tipo == \"Compra\":\n",
        "    monto - saldo\n",
        "  elif tipo == \"Venta\":\n",
        "    monto + saldo\n",
        "\n",
        "print(f\"Saldo Total después de Transacciones: ${saldo}\")"
      ],
      "metadata": {
        "colab": {
          "base_uri": "https://localhost:8080/"
        },
        "id": "g0JQ7Svg5qCA",
        "outputId": "281879d4-bf78-446c-ec25-1bdb31e3ce6d"
      },
      "execution_count": null,
      "outputs": [
        {
          "output_type": "stream",
          "name": "stdout",
          "text": [
            "Saldo Total después de Transacciones: $0\n"
          ]
        }
      ]
    },
    {
      "cell_type": "markdown",
      "source": [
        "Dada una lista de registros de clientes, donde cada registro es un diccionario con información del cliente, escribe una función llamada separar_clientes(registros) que separe la lista en dos bases de datos diferentes: una para clientes activos y otra para clientes inactivos. Los registros de clientes activos deben contener el valor True en la clave \"activo\", mientras que los registros de clientes inactivos deben contener el valor False.\n",
        "\n",
        "Luego, llama a la función separar_clientes() con la lista de registros de clientes proporcionada y muestra las bases de datos resultantes en la consola.\n",
        "\n",
        "Instrucciones detalladas:\n",
        "\n",
        "Define una lista de registros de clientes llamada registros_clientes. Cada registro debe ser un diccionario con las siguientes claves:\n",
        "\n",
        "\"nombre\": El nombre del cliente (cadena de texto).\n",
        "\n",
        "\"activo\": Un valor booleano (True o False) que indica si el cliente está activo o inactivo.\n",
        "\n",
        "Define una función llamada separar_clientes(registros) que acepte como argumento la lista de registros de clientes.\n",
        "\n",
        "Dentro de la función separar_clientes, crea dos listas vacías llamadas clientes_activos y clientes_inactivos.\n",
        "\n",
        "Utiliza un bucle for para recorrer todos los registros en la lista de registros. En cada iteración, verifica el valor de la clave \"activo\" en el registro.\n",
        "\n",
        "Si el valor de \"activo\" es True, agrega el registro completo a la lista clientes_activos. Si es False, agrega el registro completo a la lista clientes_inactivos.\n",
        "\n",
        "Al final de la función, retorna ambas listas: clientes_activos y clientes_inactivos.\n",
        "\n",
        "Fuera de la función, llama a separar_clientes() con la lista registros_clientes como argumento.\n",
        "\n",
        "Muestra las bases de datos resultantes en la consola de la siguiente manera:\n",
        "\n",
        "Imprime \"Base de Datos de Clientes Activos:\".\n",
        "\n",
        "Luego, utiliza un bucle for para mostrar cada registro de la lista clientes_activos en una línea separada.\n",
        "\n",
        "Imprime una línea en blanco.\n",
        "\n",
        "Imprime \"Base de Datos de Clientes Inactivos:\".\n",
        "\n",
        "Luego, utiliza un bucle for para mostrar cada registro de la lista clientes_inactivos en una línea separada.\n",
        "\n",
        "Ejemplo de salida esperada:\n",
        "\n",
        "Base de Datos de Clientes Activos:\n",
        "{'nombre': 'Cliente1', 'activo': True}\n",
        "{'nombre': 'Cliente3', 'activo': True}\n",
        "\n",
        "Base de Datos de Clientes Inactivos:\n",
        "{'nombre': 'Cliente2', 'activo': False}\n",
        "{'nombre': 'Cliente4', 'activo': False}\n",
        "{'nombre': 'Cliente5', 'activo': False}"
      ],
      "metadata": {
        "id": "ss-WjDt5-vtA"
      }
    },
    {
      "cell_type": "code",
      "source": [
        "clientes_brutos = [(\"cliente1\", True), (\"cliente2\", False), (\"cliente3\", True), (\"cliente4\", True), (\"cliente5\", False)]\n",
        "\n",
        "def separar_clientes(registros):\n",
        "\n",
        "  bd_clientes_activos = []\n",
        "  bd_clientes_inactivos = []\n",
        "\n",
        "  for registro in registros:\n",
        "        if registro[True]:\n",
        "            bd_clientes_activos.append(registro)\n",
        "        else:\n",
        "            bd_clientes_inactivos.append(registro)\n",
        "\n",
        "  return bd_clientes_activos, bd_clientes_inactivos"
      ],
      "metadata": {
        "id": "FYEVdMD--war"
      },
      "execution_count": null,
      "outputs": []
    },
    {
      "cell_type": "code",
      "source": [
        "separar_clientes(clientes_brutos)"
      ],
      "metadata": {
        "colab": {
          "base_uri": "https://localhost:8080/"
        },
        "id": "hezGGNYaBiCu",
        "outputId": "765435d6-f40c-4e86-c313-92ac1b275b5c"
      },
      "execution_count": null,
      "outputs": [
        {
          "output_type": "execute_result",
          "data": {
            "text/plain": [
              "([('cliente1', True), ('cliente3', True), ('cliente4', True)],\n",
              " [('cliente2', False), ('cliente5', False)])"
            ]
          },
          "metadata": {},
          "execution_count": 11
        }
      ]
    },
    {
      "cell_type": "markdown",
      "source": [
        "Crea un programa que calcule los intereses acumulados en un período de tiempo dado para varios préstamos. Debes utilizar un diccionario para almacenar la información de los préstamos, donde cada préstamo se representa como una entrada en el diccionario con las siguientes claves y valores:\n",
        "\n",
        "Clave: Nombre del préstamo (una cadena de texto).\n",
        "\n",
        "Valor: Otro diccionario con dos claves:\n",
        "\n",
        "\"tasa_interes\": La tasa de interés del préstamo como un valor decimal (por ejemplo, 0.05 para una tasa del 5%).\n",
        "\n",
        "\"monto_pendiente\": El monto pendiente del préstamo como un número positivo.\n",
        "\n",
        "El programa debe calcular los intereses acumulados para cada préstamo y mostrarlos en la siguiente forma:\n",
        "\n",
        "Intereses de Prestamo1: $100.0\n",
        "Intereses de Prestamo2: $30.0\n",
        "Intereses de Prestamo3: $180.0\n",
        "Total de intereses acumulados en [número de años] años: $310.0\n",
        "Donde [número de años] es el período de tiempo en años para el cual se calculan los intereses.\n",
        "\n",
        "Instrucciones:\n",
        "\n",
        "Define un diccionario llamado prestamos que contenga al menos tres préstamos con diferentes tasas de interés y montos pendientes.\n",
        "\n",
        "Define una función llamada calcular_intereses_acumulados que acepte dos argumentos: el diccionario de préstamos y el número de años para el cálculo.\n",
        "\n",
        "Dentro de la función, itera a través de los préstamos y calcula los intereses acumulados para cada uno utilizando la fórmula:\n",
        "\n",
        "Intereses acumulados = monto_pendiente * tasa_interes * años\n",
        "Donde monto_pendiente es el monto pendiente del préstamo, tasa_interes es la tasa de interés del préstamo y años es el número de años ingresado como argumento.\n",
        "\n",
        "Utiliza round para redondear los intereses acumulados a dos decimales.\n",
        "\n",
        "Imprime los intereses acumulados para cada préstamo en el formato especificado.\n",
        "\n",
        "Calcula el costo total de los intereses acumulados sumando los intereses de todos los préstamos.\n",
        "\n",
        "Imprime el costo total de intereses acumulados en el formato especificado.\n",
        "\n",
        "Antes de comenzar a trabajar en el ejercicio, es importante comprender cómo usar f-strings con diccionarios en Python. Un f-string es una forma conveniente de formatear cadenas de texto que contienen valores de variables. Cuando trabajamos con diccionarios, podemos utilizar f-strings para incluir valores específicos del diccionario en una cadena de texto de manera sencilla. Para ello, colocamos una f antes de las comillas de apertura de la cadena (por ejemplo, f\"Texto aquí {variable}\"), y luego dentro de las llaves {}, podemos incluir el nombre de una clave del diccionario o una expresión que acceda a un valor específico. En el ejercicio, veremos cómo utilizar f-strings con diccionarios para mostrar los intereses de cada préstamo y el total de intereses acumulados en un período de tiempo dado. Esto nos permitirá formatear y mostrar la información de manera clara y concisa en la salida del programa.\n",
        "\n",
        "# Imprimir el total de intereses\n",
        "print(f\"Total de intereses acumulados en {tiempo} años: ${round(intereses_totales, 2)}\")\n",
        "\n",
        "\n",
        "Ejemplo de uso:\n",
        "\n",
        "Supongamos que tienes los siguientes préstamos:\n",
        "\n",
        "Préstamo 1: Tasa de interés del 5%, monto pendiente de $1000.\n",
        "\n",
        "Préstamo 2: Tasa de interés del 3%, monto pendiente de $500.\n",
        "\n",
        "Préstamo 3: Tasa de interés del 6%, monto pendiente de $1500.\n",
        "\n",
        "Si ejecutas la función calcular_intereses_acumulados(prestamos, 2), el programa debería mostrar la salida como se describe anteriormente.\n",
        "\n",
        "Nota: Puedes agregar más préstamos al diccionario prestamos y ajustar la tasa de interés y el monto pendiente según tus necesidades para probar diferentes escenarios."
      ],
      "metadata": {
        "id": "dmd3gnkgD7QU"
      }
    },
    {
      "cell_type": "code",
      "source": [
        "prestamos = {\n",
        "    \"Prestamo1\": {\"tasa_interes\": 0.05, \"monto_pendiente\": 1000},\n",
        "    \"Prestamo2\": {\"tasa_interes\": 0.03, \"monto_pendiente\": 500},\n",
        "    \"Prestamo3\": {\"tasa_interes\": 0.06, \"monto_pendiente\": 1500},\n",
        "}\n",
        "\n",
        "def calcular_intereses_acumulados(prestamos, tiempo):\n",
        "    intereses_totales = 0\n",
        "\n",
        "    for nombre, datos in prestamos.items():\n",
        "        tasa_interes = datos[\"tasa_interes\"]\n",
        "        monto_pendiente = datos[\"monto_pendiente\"]\n",
        "        intereses_acumulados = round(monto_pendiente * tasa_interes * tiempo, 2)\n",
        "        intereses_totales += intereses_acumulados\n",
        "        print(f\"Intereses de {nombre}: ${intereses_acumulados}\")\n",
        "\n",
        "    print(f\"\\nTotal de intereses acumulados en {tiempo} años: ${round(intereses_totales, 2)}\")\n",
        "\n",
        "calcular_intereses_acumulados(prestamos, 2)\n"
      ],
      "metadata": {
        "id": "wShN1B8TD71W",
        "colab": {
          "base_uri": "https://localhost:8080/"
        },
        "outputId": "30b164fa-349e-4e53-fb77-9bdf5d04760e"
      },
      "execution_count": null,
      "outputs": [
        {
          "output_type": "stream",
          "name": "stdout",
          "text": [
            "Intereses de Prestamo1: $100.0\n",
            "Intereses de Prestamo2: $30.0\n",
            "Intereses de Prestamo3: $180.0\n",
            "\n",
            "Total de intereses acumulados en 2 años: $310.0\n"
          ]
        }
      ]
    },
    {
      "cell_type": "markdown",
      "source": [
        "Instrucciones para el Ejercicio de Simulación de Inversión\n",
        "\n",
        "Objetivo del Ejercicio:\n",
        "Crear un programa en Python que simule el crecimiento de una inversión bajo diferentes perfiles de riesgo a lo largo del tiempo.\n",
        "\n",
        "Descripción de la Tarea:\n",
        "\n",
        "Definición de Variables:\n",
        "\n",
        "Capital Inicial: Cantidad de dinero que inicialmente se invierte.\n",
        "\n",
        "Número de Períodos: Cantidad de tiempo durante el cual la inversión crecerá. En este caso, usaremos años como medida de tiempo.\n",
        "\n",
        "Perfil de Riesgo: Define cuánto riesgo estás dispuesto a asumir con tu inversión. Puede ser bajo, medio o alto. Cada perfil tiene una tasa de retorno asociada.\n",
        "\n",
        "Fórmula de Interés Compuesto: La fórmula que usaremos para calcular el crecimiento de la inversión es la del interés compuesto, que se calcula como:\n",
        "\n",
        "Balance Final = Capital Inicial * (1 + Tasa de Retorno) ^ Número de Períodos\n",
        "\n",
        "Donde:\n",
        "\n",
        "Capital Inicial es la cantidad de dinero que inicialmente se invierte.\n",
        "\n",
        "Tasa de Retorno es el porcentaje de ganancia o interés que se espera obtener de la inversión cada período. Esta tasa depende del perfil de riesgo elegido: bajo, medio o alto.\n",
        "\n",
        "Número de Períodos es la cantidad de tiempo durante el cual la inversión crecerá. En este ejercicio, los períodos son años.\n",
        "\n",
        "Cada año, el capital inicial crece en función de la tasa de retorno. Al final del primer año, el capital ha crecido al capital inicial más el interés ganado ese año. Este proceso se repite cada año, calculando el interés sobre el nuevo balance.\n",
        "\n",
        "Implementación en Código:\n",
        "\n",
        "Define una función llamada simular_inversion.\n",
        "\n",
        "La función toma tres argumentos: capital_inicial, num_periodos y perfil_riesgo.\n",
        "\n",
        "Utiliza un bucle for para calcular el balance en cada período.\n",
        "\n",
        "Asegúrate de redondear la tasa de retorno a un decimal antes de imprimirla, utilizando la función round(). Por ejemplo: round(tasa_retorno[perfil_riesgo] * 100, 1) para obtener un valor como \"7.0%\".\n",
        "\n",
        "Redondea también el balance a dos decimales en cada período usando la función round().\n",
        "\n",
        "Imprime el balance al final de cada período.\n",
        "\n",
        "Ejemplo del Código:\n",
        "\n",
        "def simular_inversion(capital_inicial, num_periodos, perfil_riesgo):\n",
        "\n",
        "    # Aquí debes definir las tasas de retorno para cada perfil\n",
        "\n",
        "    # Luego, usa un bucle para calcular el balance en cada período\n",
        "\n",
        "    # Finalmente, imprime el balance en cada período\n",
        "\n",
        "Ejemplo de Uso de la Función Round: Para redondear un número a dos decimales, utiliza la función round() de la siguiente manera:\n",
        "\n",
        "numero_redondeado = round(numero_original, 2)\n",
        "\n",
        "\n",
        "Resultado Esperado\n",
        "\n",
        "Tu programa debería imprimir el balance inicial, la tasa de retorno anual según el perfil de riesgo, y el balance al final de cada período. Para este ejercicio, se espera que utilices un capital inicial de $10,000, un número de períodos de 5 años, y un perfil de riesgo medio. Tu programa debería imprimir los siguientes resultados:\n",
        "\n",
        "Balance inicial: 10000\n",
        "\n",
        "Tasa de Retorno Anual: 7%\n",
        "\n",
        "Periodo 1: Balance: 10700.00\n",
        "\n",
        "Periodo 2: Balance: 11449.00\n",
        "\n",
        "Periodo 3: Balance: 12250.43\n",
        "\n",
        "Periodo 4: Balance: 13107.96\n",
        "\n",
        "Periodo 5: Balance: 14025.52\n",
        "\n",
        "\n",
        "Recuerda que estos valores son el resultado de aplicar la fórmula del interés compuesto con una tasa de retorno del 7% anual, representando el perfil de riesgo medio, sobre el capital inicial a lo largo de 5 años. Cada balance mostrado es el resultado del cálculo al final de cada año, redondeado a dos decimales para una mayor precisión.\n",
        "\n",
        "Consejos:\n",
        "\n",
        "Asegúrate de entender cómo funciona la fórmula del interés compuesto.\n",
        "\n",
        "Piensa en cómo las diferentes tasas de retorno afectan el crecimiento de la inversión.\n",
        "\n",
        "Si te quedas atascado, revisa cómo se implementan los bucles for en Python y cómo se realizan los cálculos matemáticos básicos."
      ],
      "metadata": {
        "id": "CRfUofMpYuPv"
      }
    },
    {
      "cell_type": "code",
      "source": [
        "def simular_inversion(capital_inicial, num_periodos, perfil_riesgo):\n",
        "\n",
        "    tasas_retorno = {\n",
        "        \"bajo\": 0.03,\n",
        "        \"medio\": 0.07,\n",
        "        \"alto\": 0.12\n",
        "    }\n",
        "\n",
        "    if perfil_riesgo not in tasas_retorno:\n",
        "        print(\"Perfil de riesgo inválido. Debe ser 'bajo', 'medio' o 'alto'.\")\n",
        "        return\n",
        "\n",
        "    tasa_retorno = tasas_retorno[perfil_riesgo]\n",
        "    print(f\"Balance inicial: ${capital_inicial}\")\n",
        "    print(f\"Tasa de Retorno Anual: {round(tasa_retorno * 100, 1)}%\")\n",
        "\n",
        "    balance = capital_inicial\n",
        "    for periodo in range(1, num_periodos + 1):\n",
        "        balance *= (1 + tasa_retorno)\n",
        "        print(f\"Periodo {periodo}: Balance: ${round(balance, 2)}\")\n",
        "\n",
        "capital_inicial = 10000\n",
        "num_periodos = 5\n",
        "perfil_riesgo = \"medio\"\n",
        "\n",
        "simular_inversion(capital_inicial, num_periodos, perfil_riesgo)"
      ],
      "metadata": {
        "colab": {
          "base_uri": "https://localhost:8080/"
        },
        "id": "5uB6FfdqYutW",
        "outputId": "f61f4487-0082-423e-f8b0-7ee9f41ca867"
      },
      "execution_count": null,
      "outputs": [
        {
          "output_type": "stream",
          "name": "stdout",
          "text": [
            "Balance inicial: $10000\n",
            "Tasa de Retorno Anual: 7.0%\n",
            "Periodo 1: Balance: $10700.0\n",
            "Periodo 2: Balance: $11449.0\n",
            "Periodo 3: Balance: $12250.43\n",
            "Periodo 4: Balance: $13107.96\n",
            "Periodo 5: Balance: $14025.52\n"
          ]
        }
      ]
    },
    {
      "cell_type": "markdown",
      "source": [
        "Generar un conjunto de datos con NumPy.\n",
        "\n",
        "Utilizar Matplotlib para crear un gráfico de línea de una función seno.\n",
        "\n",
        "Añadir elementos descriptivos al gráfico, como títulos y etiquetas.\n",
        "\n",
        "Instrucciones:\n",
        "\n",
        "Importar Bibliotecas: Comienza importando las bibliotecas necesarias. Necesitarás matplotlib.pyplot para las funciones de graficación y numpy para generar y manejar datos numéricos.\n",
        "\n",
        "Generar Datos: Tu primer paso es generar un rango de valores que serán el eje x de tu gráfico. Usa una función de NumPy que te permita crear un arreglo de valores igualmente espaciados. Elige un rango que vaya de 0 a 10 y define una cantidad de puntos, por ejemplo, 100.\n",
        "\n",
        "A continuación, necesitas calcular los valores correspondientes de la función seno para cada punto en tu eje x. NumPy tiene una función específica para calcular el seno de un arreglo de valores.\n",
        "\n",
        "Crear el Gráfico: Con tus datos listos, el siguiente paso es crear un gráfico de línea. Utiliza una función de Matplotlib que te permita graficar una serie de puntos definidos por tus arreglos de datos en el eje x y y.\n",
        "\n",
        "Personalizar el Gráfico: Un buen gráfico debe ser fácil de entender. Utiliza las funciones de Matplotlib para añadir un título a tu gráfico, así como etiquetas claras para los ejes x e y. Piensa en títulos y etiquetas que describan lo que tu gráfico representa.\n",
        "\n",
        "Intento de Visualización: Aunque no podrás ver el resultado en el IDE de Udemy, finaliza tu script con la función que normalmente usarías para mostrar el gráfico. Esta es una práctica estándar en la visualización de datos con Matplotlib."
      ],
      "metadata": {
        "id": "0PImNqkjeM5U"
      }
    },
    {
      "cell_type": "code",
      "source": [
        "import numpy as np\n",
        "import matplotlib.pyplot as plt\n",
        "\n",
        "x = np.linspace(0, 10, 100)\n",
        "\n",
        "y = np.sin(x)\n",
        "\n",
        "plt.plot(x, y, label=\"Seno\", color=\"pink\")\n",
        "\n",
        "plt.title(\"Gráfico de la Función Seno\")\n",
        "plt.xlabel(\"Valores de X\")\n",
        "plt.ylabel(\"Seno(X)\")\n",
        "\n",
        "plt.grid(True)\n",
        "\n",
        "plt.legend()\n",
        "\n",
        "plt.show()\n"
      ],
      "metadata": {
        "colab": {
          "base_uri": "https://localhost:8080/",
          "height": 472
        },
        "id": "OtQBjzpSeNTI",
        "outputId": "d1e8ed6a-e9e4-4f52-c715-deccbf654be6"
      },
      "execution_count": null,
      "outputs": [
        {
          "output_type": "display_data",
          "data": {
            "text/plain": [
              "<Figure size 640x480 with 1 Axes>"
            ],
            "image/png": "[encoded data removed]"
          },
          "metadata": {}
        }
      ]
    },
    {
      "cell_type": "markdown",
      "source": [
        "Define tres variables:\n",
        "\n",
        "inversion_inicial: El monto inicial de tu inversión (por ejemplo, $10,000).\n",
        "\n",
        "tasa_interes_anual: La tasa de interés anual como un número decimal (por ejemplo, 0.10 para el 10% de interés anual).\n",
        "\n",
        "meta_ahorro: La cantidad de dinero que deseas alcanzar (por ejemplo, $20,000).\n",
        "\n",
        "Utiliza un bucle while para calcular cuántos meses te tomará alcanzar tu meta de ahorro. Inicializa una variable meses en 0.\n",
        "\n",
        "Dentro del bucle while, actualiza la inversión inicial multiplicándola por la tasa de interés mensual (divide la tasa anual por 12, ya que estamos trabajando con meses).\n",
        "\n",
        "Incrementa la variable meses en 1 en cada iteración del bucle.\n",
        "\n",
        "Continúa el bucle while hasta que la inversión inicial sea igual o mayor que la meta de ahorro.\n",
        "\n",
        "Después de salir del bucle while, imprime un mensaje que indique cuántos meses te tomó alcanzar tu meta de ahorro. Puedes formatear el mensaje de la siguiente manera: \"Te tomará X meses alcanzar una inversión de $Y\", donde X es el número de meses y Y es la meta de ahorro.\n",
        "\n",
        "Ejecuta el código y verifica si logras alcanzar tu meta de ahorro en el tiempo esperado.\n",
        "\n",
        "Recuerda que en cada iteración del bucle, la inversión inicial se incrementa mensualmente según la tasa de interés. ¡Buena suerte en tu planificación"
      ],
      "metadata": {
        "id": "baBsFFXB2JSc"
      }
    },
    {
      "cell_type": "code",
      "source": [
        "inversion_inicial = 10000\n",
        "tasa_interes_anual = 0.10\n",
        "meta_ahorro = 20000\n",
        "meses = 0\n",
        "\n",
        "tasa_interes_mensual = tasa_interes_anual / 12\n",
        "\n",
        "while inversion_inicial < meta_ahorro:\n",
        "\n",
        "    inversion_inicial *= (1 + tasa_interes_mensual)\n",
        "\n",
        "    meses += 1\n",
        "\n",
        "print(f\"Te tomará {meses} meses alcanzar una inversión de ${meta_ahorro}\")"
      ],
      "metadata": {
        "colab": {
          "base_uri": "https://localhost:8080/"
        },
        "id": "PFf1UPFl2JnU",
        "outputId": "c429b5ea-f393-49e7-8d99-b46303d63ee5"
      },
      "execution_count": null,
      "outputs": [
        {
          "output_type": "stream",
          "name": "stdout",
          "text": [
            "Te tomará 84 meses alcanzar una inversión de $20000\n"
          ]
        }
      ]
    },
    {
      "cell_type": "markdown",
      "source": [
        "Importa la biblioteca NumPy con el alias np al principio de tu código.\n",
        "\n",
        "Define una matriz de ventas llamada ventas como una lista de listas. Cada lista interna representa las ventas mensuales de un producto. Puedes utilizar los números de ventas que desees, pero asegúrate de que haya al menos dos productos y tres meses de datos para cada uno. Por ejemplo:\n",
        "\n",
        "ventas = [[100, 120, 90], [80, 95, 70]]\n",
        "Convierte la lista de listas ventas en un arreglo NumPy utilizando la función np.array() y guárdalo en una variable llamada ventas_np.\n",
        "\n",
        "Utiliza un bucle for para iterar sobre los productos en ventas_np. Puedes utilizar la función enumerate para obtener tanto el índice del producto como las ventas mensuales. Comienza la enumeración desde 1.\n",
        "\n",
        "for producto_id, producto_ventas in enumerate(ventas_np, start=1):\n",
        "    total_ventas = np.sum(producto_ventas)\n",
        "    promedio_ventas = np.mean(producto_ventas)\n",
        "    mes_mas_ventas = np.argmax(producto_ventas) + 1\n",
        "Dentro del bucle, calcula las siguientes estadísticas para cada producto:\n",
        "\n",
        "El total de ventas mensuales utilizando la función np.sum().\n",
        "\n",
        "El promedio de ventas mensuales utilizando la función np.mean(). Asegúrate de redondear el resultado a dos decimales utilizando round.\n",
        "\n",
        "El mes con las ventas más altas utilizando la función np.argmax(). Recuerda que el índice del mes en NumPy comienza desde 0, así que agrega 1 al resultado.\n",
        "\n",
        "Imprime las estadísticas para cada producto en el siguiente formato:\n",
        "\n",
        "Producto 1:\n",
        "Total de ventas: [total_ventas]\n",
        "Promedio de ventas mensuales: [promedio_ventas]\n",
        "Mes con las ventas más altas: Mes [mes_mas_ventas]\n",
        "\n",
        "Producto 2:\n",
        "Total de ventas: [total_ventas]\n",
        "Promedio de ventas mensuales: [promedio_ventas]\n",
        "Mes con las ventas más altas: Mes [mes_mas_ventas]\n",
        "Ejecuta tu programa y verifica que las estadísticas se impriman correctamente para cada producto."
      ],
      "metadata": {
        "id": "feysG8dKBR0D"
      }
    },
    {
      "cell_type": "code",
      "source": [
        "import numpy as np\n",
        "\n",
        "ventas = [[100, 120, 90],\n",
        "          [80, 95, 70],\n",
        "          [200, 86, 92],\n",
        "          [70, 110, 60]]\n",
        "\n",
        "ventas_np = np.array(ventas)\n"
      ],
      "metadata": {
        "id": "JXP2CIckBSbC"
      },
      "execution_count": null,
      "outputs": []
    },
    {
      "cell_type": "code",
      "source": [
        "for producto_id, producto_ventas in enumerate(ventas_np, start=1):\n",
        "  total_ventas = np.sum(producto_ventas)\n",
        "  promedio_ventas = np.mean(producto_ventas)\n",
        "  mes_mas_ventas = np.argmax(producto_ventas) + 1\n",
        "  print(f\"Producto {producto_id}:\")\n",
        "  print(f\"Total de ventas: {total_ventas}\")\n",
        "  print(f\"Promedio de ventas mensuales: {round(promedio_ventas)}\")\n",
        "  print(f\"Mes con las ventas más altas: Mes {mes_mas_ventas}\")"
      ],
      "metadata": {
        "colab": {
          "base_uri": "https://localhost:8080/"
        },
        "id": "P7nsRJTkDpKV",
        "outputId": "b8862107-e58f-4497-f139-670ad5cfd80a"
      },
      "execution_count": null,
      "outputs": [
        {
          "output_type": "stream",
          "name": "stdout",
          "text": [
            "Producto 1:\n",
            "Total de ventas: 310\n",
            "Promedio de ventas mensuales: 103\n",
            "Mes con las ventas más altas: Mes 2\n",
            "Producto 2:\n",
            "Total de ventas: 245\n",
            "Promedio de ventas mensuales: 82\n",
            "Mes con las ventas más altas: Mes 2\n",
            "Producto 3:\n",
            "Total de ventas: 378\n",
            "Promedio de ventas mensuales: 126\n",
            "Mes con las ventas más altas: Mes 1\n",
            "Producto 4:\n",
            "Total de ventas: 240\n",
            "Promedio de ventas mensuales: 80\n",
            "Mes con las ventas más altas: Mes 2\n"
          ]
        }
      ]
    },
    {
      "cell_type": "markdown",
      "source": [
        "Importa el módulo random al inicio de tu programa con import random.\n",
        "\n",
        "Define una variable llamada inversion_inicial y asígnale un monto inicial de $10,000.\n",
        "\n",
        "Define una variable llamada anos y asígnale un número de años, por ejemplo, 5.\n",
        "\n",
        "Define dos variables llamadas tasa_minima y tasa_maxima. Asigna a tasa_minima el valor de 0.05 y a tasa_maxima el valor de 0.10. Estas serán las tasas de rendimiento aleatorias que variarán entre el 5% y el 10%.\n",
        "\n",
        "Utiliza la función random.uniform(tasa_minima, tasa_maxima) para generar una tasa de rendimiento aleatoria entre tasa_minima y tasa_maxima, y asígnala a la variable tasa_rendimiento.\n",
        "\n",
        "Utilizando un bucle for, simula el crecimiento de la inversión a lo largo de anos años. En cada iteración del bucle, actualiza el valor de inversion_inicial multiplicándolo por 1 + tasa_rendimiento.\n",
        "\n",
        "Después del bucle for, imprime el valor futuro de la inversión. Utiliza la función round para redondear el valor a dos decimales y muestra el resultado en un mensaje claro, como \"El valor futuro de la inversión después de 5 años es: $xxxx.xx\", donde \"xxxx.xx\" representa el valor redondeado"
      ],
      "metadata": {
        "id": "4-WjLVDvYi58"
      }
    },
    {
      "cell_type": "code",
      "source": [
        "import random\n",
        "\n",
        "inversion_inicial_3 = 10000\n",
        "años = 5\n",
        "tasa_minima = 0.05\n",
        "tasa_maxima = 0.10\n",
        "\n",
        "tasa_rendimiento = random.uniform(tasa_minima, tasa_maxima)\n",
        "\n",
        "for año in range(años):\n",
        "\n",
        "    tasa_rendimiento = random.uniform(tasa_minima, tasa_maxima)\n",
        "\n",
        "    inversion_inicial_3 *= (1 + tasa_rendimiento)\n",
        "\n",
        "valor_futuro = round(inversion_inicial_3, 2)\n",
        "print(f\"El valor futuro de la inversión después de {años} años es: ${valor_futuro}\")"
      ],
      "metadata": {
        "colab": {
          "base_uri": "https://localhost:8080/"
        },
        "id": "rtdDeI2BYksf",
        "outputId": "aa2ef705-97a0-4283-e61b-18892d7c122e"
      },
      "execution_count": null,
      "outputs": [
        {
          "output_type": "stream",
          "name": "stdout",
          "text": [
            "El valor futuro de la inversión después de 5 años es: $14992.93\n"
          ]
        }
      ]
    },
    {
      "cell_type": "markdown",
      "source": [
        "Objetivo\n",
        "\n",
        "Crear un programa en Python que simule la variación diaria del precio de una acción a lo largo de un mes, utilizando arrays y números aleatorios.\n",
        "\n",
        "Descripción del Problema\n",
        "\n",
        "Vas a simular cómo el precio de una acción puede cambiar día a día debido a la volatilidad del mercado. Para ello, usarás números aleatorios que representen el cambio porcentual diario en el precio de la acción.\n",
        "\n",
        "Tareas a Realizar\n",
        "\n",
        "Configuración Inicial:\n",
        "\n",
        "Establece el precio inicial de la acción en $100.\n",
        "\n",
        "Define el número de días para la simulación como 20 (un mes de días hábiles).\n",
        "\n",
        "Generación de Cambios Diarios:\n",
        "\n",
        "Usa la función random.uniform(-0.03, 0.03) para generar un cambio porcentual diario en el precio. Esto representa un cambio de -3% a +3%.\n",
        "\n",
        "Cálculo del Precio Diario y Uso de .append:\n",
        "\n",
        "Crea una lista para almacenar los precios. Inicia la lista con el precio inicial.\n",
        "\n",
        "Para cada día, calcula el nuevo precio multiplicando el precio del día anterior por (1 + cambio).\n",
        "\n",
        "Usa la función .append para añadir el nuevo precio al final de tu lista de precios. Por ejemplo, lista_precios.append(precio_nuevo).\n",
        "\n",
        "Redondeo de Precios:\n",
        "\n",
        "Al almacenar cada precio nuevo, puedes redondearlo a dos decimales utilizando la función round. Por ejemplo, round(precio_nuevo, 2).\n",
        "\n",
        "Mostrar Resultados:\n",
        "\n",
        "Al final de la simulación, muestra el precio inicial, el precio final y el cambio porcentual total.\n",
        "\n",
        "Fórmula para Calcular el Precio Diario\n",
        "\n",
        "El nuevo precio se calcula como sigue:\n",
        "\n",
        "Precio Nuevo = Precio del Día Anterior * (1 + Cambio Porcentual)\n",
        "\n",
        "El Cambio Porcentual es un número aleatorio entre -0.03 y 0.03.\n",
        "\n",
        "Instrucciones Importantes\n",
        "\n",
        "Escribe y ejecuta tu código en la consola de Python proporcionada por Udemy, justo a la derecha de estas instrucciones.\n",
        "\n",
        "Utiliza exactamente los mismos valores de entrada (precio inicial y número de días) para que tu código pueda ser probado correctamente.\n",
        "\n",
        "Asegúrate de entender cómo funciona la función .append para añadir elementos a una lista y cómo la función round se utiliza para redondear los números a un número específico de decimales."
      ],
      "metadata": {
        "id": "5Rb1i_J0s5l-"
      }
    },
    {
      "cell_type": "code",
      "source": [
        "import random\n",
        "\n",
        "precio_inicial = 100.00\n",
        "dias = 20\n",
        "precios = [precio_inicial]\n",
        "\n",
        "for dia in range(dias):\n",
        "\n",
        "    cambio_porcentual = random.uniform(-0.03, 0.03)\n",
        "\n",
        "    precio_nuevo = precios[-1] * (1 + cambio_porcentual)\n",
        "\n",
        "    precios.append(round(precio_nuevo, 2))\n",
        "\n",
        "precio_final = precios[-1]\n",
        "cambio_total_porcentual = ((precio_final - precio_inicial) / precio_inicial) * 100\n",
        "\n",
        "print(f\"Precio inicial: ${precio_inicial:.2f}\")\n",
        "print(f\"Precio final: ${precio_final:.2f}\")\n",
        "print(f\"Cambio porcentual total: {cambio_total_porcentual:.2f}%\")\n",
        "\n",
        "print(\"Precios diarios:\")\n",
        "for dia, precio in enumerate(precios, start=0):\n",
        "    print(f\"Día {dia}: ${precio:.2f}\")\n"
      ],
      "metadata": {
        "colab": {
          "base_uri": "https://localhost:8080/"
        },
        "id": "KNFX4wtis6FH",
        "outputId": "2f61d6dc-e4b8-4885-b99f-d199ec7555b4"
      },
      "execution_count": null,
      "outputs": [
        {
          "output_type": "stream",
          "name": "stdout",
          "text": [
            "Precio inicial: $100.00\n",
            "Precio final: $103.90\n",
            "Cambio porcentual total: 3.90%\n",
            "Precios diarios:\n",
            "Día 0: $100.00\n",
            "Día 1: $99.31\n",
            "Día 2: $99.17\n",
            "Día 3: $99.35\n",
            "Día 4: $102.07\n",
            "Día 5: $102.55\n",
            "Día 6: $105.38\n",
            "Día 7: $106.09\n",
            "Día 8: $107.10\n",
            "Día 9: $104.33\n",
            "Día 10: $107.08\n",
            "Día 11: $105.99\n",
            "Día 12: $107.12\n",
            "Día 13: $107.54\n",
            "Día 14: $105.17\n",
            "Día 15: $107.84\n",
            "Día 16: $110.42\n",
            "Día 17: $107.16\n",
            "Día 18: $107.30\n",
            "Día 19: $105.01\n",
            "Día 20: $103.90\n"
          ]
        }
      ]
    },
    {
      "cell_type": "code",
      "source": [
        "import pandas as pd\n",
        "\n",
        "df = pd.read_csv(\"/lendingclub.csv\")\n",
        "pd.options.display.max_columns = None"
      ],
      "metadata": {
        "colab": {
          "base_uri": "https://localhost:8080/",
          "height": 339
        },
        "id": "tTgHXh11hJEq",
        "outputId": "7bddb25d-92c3-4d81-9030-351df4295ae8"
      },
      "execution_count": null,
      "outputs": [
        {
          "output_type": "error",
          "ename": "FileNotFoundError",
          "evalue": "[Errno 2] No such file or directory: '/lendingclub.csv'",
          "traceback": [
            "\u001b[0;31m---------------------------------------------------------------------------\u001b[0m",
            "\u001b[0;31mFileNotFoundError\u001b[0m                         Traceback (most recent call last)",
            "\u001b[0;32m<ipython-input-1-47ddb043cbdf>\u001b[0m in \u001b[0;36m<cell line: 3>\u001b[0;34m()\u001b[0m\n\u001b[1;32m      1\u001b[0m \u001b[0;32mimport\u001b[0m \u001b[0mpandas\u001b[0m \u001b[0;32mas\u001b[0m \u001b[0mpd\u001b[0m\u001b[0;34m\u001b[0m\u001b[0;34m\u001b[0m\u001b[0m\n\u001b[1;32m      2\u001b[0m \u001b[0;34m\u001b[0m\u001b[0m\n\u001b[0;32m----> 3\u001b[0;31m \u001b[0mdf\u001b[0m \u001b[0;34m=\u001b[0m \u001b[0mpd\u001b[0m\u001b[0;34m.\u001b[0m\u001b[0mread_csv\u001b[0m\u001b[0;34m(\u001b[0m\u001b[0;34m\"/lendingclub.csv\"\u001b[0m\u001b[0;34m)\u001b[0m\u001b[0;34m\u001b[0m\u001b[0;34m\u001b[0m\u001b[0m\n\u001b[0m\u001b[1;32m      4\u001b[0m \u001b[0mpd\u001b[0m\u001b[0;34m.\u001b[0m\u001b[0moptions\u001b[0m\u001b[0;34m.\u001b[0m\u001b[0mdisplay\u001b[0m\u001b[0;34m.\u001b[0m\u001b[0mmax_columns\u001b[0m \u001b[0;34m=\u001b[0m \u001b[0;32mNone\u001b[0m\u001b[0;34m\u001b[0m\u001b[0;34m\u001b[0m\u001b[0m\n",
            "\u001b[0;32m/usr/local/lib/python3.10/dist-packages/pandas/io/parsers/readers.py\u001b[0m in \u001b[0;36mread_csv\u001b[0;34m(filepath_or_buffer, sep, delimiter, header, names, index_col, usecols, dtype, engine, converters, true_values, false_values, skipinitialspace, skiprows, skipfooter, nrows, na_values, keep_default_na, na_filter, verbose, skip_blank_lines, parse_dates, infer_datetime_format, keep_date_col, date_parser, date_format, dayfirst, cache_dates, iterator, chunksize, compression, thousands, decimal, lineterminator, quotechar, quoting, doublequote, escapechar, comment, encoding, encoding_errors, dialect, on_bad_lines, delim_whitespace, low_memory, memory_map, float_precision, storage_options, dtype_backend)\u001b[0m\n\u001b[1;32m   1024\u001b[0m     \u001b[0mkwds\u001b[0m\u001b[0;34m.\u001b[0m\u001b[0mupdate\u001b[0m\u001b[0;34m(\u001b[0m\u001b[0mkwds_defaults\u001b[0m\u001b[0;34m)\u001b[0m\u001b[0;34m\u001b[0m\u001b[0;34m\u001b[0m\u001b[0m\n\u001b[1;32m   1025\u001b[0m \u001b[0;34m\u001b[0m\u001b[0m\n\u001b[0;32m-> 1026\u001b[0;31m     \u001b[0;32mreturn\u001b[0m \u001b[0m_read\u001b[0m\u001b[0;34m(\u001b[0m\u001b[0mfilepath_or_buffer\u001b[0m\u001b[0;34m,\u001b[0m \u001b[0mkwds\u001b[0m\u001b[0;34m)\u001b[0m\u001b[0;34m\u001b[0m\u001b[0;34m\u001b[0m\u001b[0m\n\u001b[0m\u001b[1;32m   1027\u001b[0m \u001b[0;34m\u001b[0m\u001b[0m\n\u001b[1;32m   1028\u001b[0m \u001b[0;34m\u001b[0m\u001b[0m\n",
            "\u001b[0;32m/usr/local/lib/python3.10/dist-packages/pandas/io/parsers/readers.py\u001b[0m in \u001b[0;36m_read\u001b[0;34m(filepath_or_buffer, kwds)\u001b[0m\n\u001b[1;32m    618\u001b[0m \u001b[0;34m\u001b[0m\u001b[0m\n\u001b[1;32m    619\u001b[0m     \u001b[0;31m# Create the parser.\u001b[0m\u001b[0;34m\u001b[0m\u001b[0;34m\u001b[0m\u001b[0m\n\u001b[0;32m--> 620\u001b[0;31m     \u001b[0mparser\u001b[0m \u001b[0;34m=\u001b[0m \u001b[0mTextFileReader\u001b[0m\u001b[0;34m(\u001b[0m\u001b[0mfilepath_or_buffer\u001b[0m\u001b[0;34m,\u001b[0m \u001b[0;34m**\u001b[0m\u001b[0mkwds\u001b[0m\u001b[0;34m)\u001b[0m\u001b[0;34m\u001b[0m\u001b[0;34m\u001b[0m\u001b[0m\n\u001b[0m\u001b[1;32m    621\u001b[0m \u001b[0;34m\u001b[0m\u001b[0m\n\u001b[1;32m    622\u001b[0m     \u001b[0;32mif\u001b[0m \u001b[0mchunksize\u001b[0m \u001b[0;32mor\u001b[0m \u001b[0miterator\u001b[0m\u001b[0;34m:\u001b[0m\u001b[0;34m\u001b[0m\u001b[0;34m\u001b[0m\u001b[0m\n",
            "\u001b[0;32m/usr/local/lib/python3.10/dist-packages/pandas/io/parsers/readers.py\u001b[0m in \u001b[0;36m__init__\u001b[0;34m(self, f, engine, **kwds)\u001b[0m\n\u001b[1;32m   1618\u001b[0m \u001b[0;34m\u001b[0m\u001b[0m\n\u001b[1;32m   1619\u001b[0m         \u001b[0mself\u001b[0m\u001b[0;34m.\u001b[0m\u001b[0mhandles\u001b[0m\u001b[0;34m:\u001b[0m \u001b[0mIOHandles\u001b[0m \u001b[0;34m|\u001b[0m \u001b[0;32mNone\u001b[0m \u001b[0;34m=\u001b[0m \u001b[0;32mNone\u001b[0m\u001b[0;34m\u001b[0m\u001b[0;34m\u001b[0m\u001b[0m\n\u001b[0;32m-> 1620\u001b[0;31m         \u001b[0mself\u001b[0m\u001b[0;34m.\u001b[0m\u001b[0m_engine\u001b[0m \u001b[0;34m=\u001b[0m \u001b[0mself\u001b[0m\u001b[0;34m.\u001b[0m\u001b[0m_make_engine\u001b[0m\u001b[0;34m(\u001b[0m\u001b[0mf\u001b[0m\u001b[0;34m,\u001b[0m \u001b[0mself\u001b[0m\u001b[0;34m.\u001b[0m\u001b[0mengine\u001b[0m\u001b[0;34m)\u001b[0m\u001b[0;34m\u001b[0m\u001b[0;34m\u001b[0m\u001b[0m\n\u001b[0m\u001b[1;32m   1621\u001b[0m \u001b[0;34m\u001b[0m\u001b[0m\n\u001b[1;32m   1622\u001b[0m     \u001b[0;32mdef\u001b[0m \u001b[0mclose\u001b[0m\u001b[0;34m(\u001b[0m\u001b[0mself\u001b[0m\u001b[0;34m)\u001b[0m \u001b[0;34m->\u001b[0m \u001b[0;32mNone\u001b[0m\u001b[0;34m:\u001b[0m\u001b[0;34m\u001b[0m\u001b[0;34m\u001b[0m\u001b[0m\n",
            "\u001b[0;32m/usr/local/lib/python3.10/dist-packages/pandas/io/parsers/readers.py\u001b[0m in \u001b[0;36m_make_engine\u001b[0;34m(self, f, engine)\u001b[0m\n\u001b[1;32m   1878\u001b[0m                 \u001b[0;32mif\u001b[0m \u001b[0;34m\"b\"\u001b[0m \u001b[0;32mnot\u001b[0m \u001b[0;32min\u001b[0m \u001b[0mmode\u001b[0m\u001b[0;34m:\u001b[0m\u001b[0;34m\u001b[0m\u001b[0;34m\u001b[0m\u001b[0m\n\u001b[1;32m   1879\u001b[0m                     \u001b[0mmode\u001b[0m \u001b[0;34m+=\u001b[0m \u001b[0;34m\"b\"\u001b[0m\u001b[0;34m\u001b[0m\u001b[0;34m\u001b[0m\u001b[0m\n\u001b[0;32m-> 1880\u001b[0;31m             self.handles = get_handle(\n\u001b[0m\u001b[1;32m   1881\u001b[0m                 \u001b[0mf\u001b[0m\u001b[0;34m,\u001b[0m\u001b[0;34m\u001b[0m\u001b[0;34m\u001b[0m\u001b[0m\n\u001b[1;32m   1882\u001b[0m                 \u001b[0mmode\u001b[0m\u001b[0;34m,\u001b[0m\u001b[0;34m\u001b[0m\u001b[0;34m\u001b[0m\u001b[0m\n",
            "\u001b[0;32m/usr/local/lib/python3.10/dist-packages/pandas/io/common.py\u001b[0m in \u001b[0;36mget_handle\u001b[0;34m(path_or_buf, mode, encoding, compression, memory_map, is_text, errors, storage_options)\u001b[0m\n\u001b[1;32m    871\u001b[0m         \u001b[0;32mif\u001b[0m \u001b[0mioargs\u001b[0m\u001b[0;34m.\u001b[0m\u001b[0mencoding\u001b[0m \u001b[0;32mand\u001b[0m \u001b[0;34m\"b\"\u001b[0m \u001b[0;32mnot\u001b[0m \u001b[0;32min\u001b[0m \u001b[0mioargs\u001b[0m\u001b[0;34m.\u001b[0m\u001b[0mmode\u001b[0m\u001b[0;34m:\u001b[0m\u001b[0;34m\u001b[0m\u001b[0;34m\u001b[0m\u001b[0m\n\u001b[1;32m    872\u001b[0m             \u001b[0;31m# Encoding\u001b[0m\u001b[0;34m\u001b[0m\u001b[0;34m\u001b[0m\u001b[0m\n\u001b[0;32m--> 873\u001b[0;31m             handle = open(\n\u001b[0m\u001b[1;32m    874\u001b[0m                 \u001b[0mhandle\u001b[0m\u001b[0;34m,\u001b[0m\u001b[0;34m\u001b[0m\u001b[0;34m\u001b[0m\u001b[0m\n\u001b[1;32m    875\u001b[0m                 \u001b[0mioargs\u001b[0m\u001b[0;34m.\u001b[0m\u001b[0mmode\u001b[0m\u001b[0;34m,\u001b[0m\u001b[0;34m\u001b[0m\u001b[0;34m\u001b[0m\u001b[0m\n",
            "\u001b[0;31mFileNotFoundError\u001b[0m: [Errno 2] No such file or directory: '/lendingclub.csv'"
          ]
        }
      ]
    },
    {
      "cell_type": "code",
      "source": [
        "datos.head()"
      ],
      "metadata": {
        "colab": {
          "base_uri": "https://localhost:8080/",
          "height": 695
        },
        "id": "kvrBVvI4hVzR",
        "outputId": "5d9dbd5a-235a-40c5-a283-c44caf4bb7d8"
      },
      "execution_count": null,
      "outputs": [
        {
          "output_type": "execute_result",
          "data": {
            "text/plain": [
              "   Unnamed: 0       id  member_id  loan_amnt  funded_amnt  funded_amnt_inv  \\\n",
              "0           0  1077501    1296599       5000         5000           4975.0   \n",
              "1           1  1077430    1314167       2500         2500           2500.0   \n",
              "2           2  1077175    1313524       2400         2400           2400.0   \n",
              "3           3  1076863    1277178      10000        10000          10000.0   \n",
              "4           4  1075358    1311748       3000         3000           3000.0   \n",
              "\n",
              "         term  int_rate  installment grade sub_grade  \\\n",
              "0   36 months     10.65       162.87     B        B2   \n",
              "1   60 months     15.27        59.83     C        C4   \n",
              "2   36 months     15.96        84.33     C        C5   \n",
              "3   36 months     13.49       339.31     C        C1   \n",
              "4   60 months     12.69        67.79     B        B5   \n",
              "\n",
              "                  emp_title emp_length home_ownership  annual_inc  \\\n",
              "0                       NaN  10+ years           RENT     24000.0   \n",
              "1                     Ryder   < 1 year           RENT     30000.0   \n",
              "2                       NaN  10+ years           RENT     12252.0   \n",
              "3       AIR RESOURCES BOARD  10+ years           RENT     49200.0   \n",
              "4  University Medical Group     1 year           RENT     80000.0   \n",
              "\n",
              "  verification_status issue_d  loan_status pymnt_plan  \\\n",
              "0            Verified  Dec-11   Fully Paid          n   \n",
              "1     Source Verified  Dec-11  Charged Off          n   \n",
              "2        Not Verified  Dec-11   Fully Paid          n   \n",
              "3     Source Verified  Dec-11   Fully Paid          n   \n",
              "4     Source Verified  Dec-11      Current          n   \n",
              "\n",
              "                                                 url  \\\n",
              "0  https://www.lendingclub.com/browse/loanDetail....   \n",
              "1  https://www.lendingclub.com/browse/loanDetail....   \n",
              "2  https://www.lendingclub.com/browse/loanDetail....   \n",
              "3  https://www.lendingclub.com/browse/loanDetail....   \n",
              "4  https://www.lendingclub.com/browse/loanDetail....   \n",
              "\n",
              "                                                desc         purpose  \\\n",
              "0    Borrower added on 12/22/11 > I need to upgra...     credit_card   \n",
              "1    Borrower added on 12/22/11 > I plan to use t...             car   \n",
              "2                                                NaN  small_business   \n",
              "3    Borrower added on 12/21/11 > to pay for prop...           other   \n",
              "4    Borrower added on 12/21/11 > I plan on combi...           other   \n",
              "\n",
              "                  title zip_code addr_state    dti  delinq_2yrs  \\\n",
              "0              Computer    860xx         AZ  27.65          0.0   \n",
              "1                  bike    309xx         GA   1.00          0.0   \n",
              "2  real estate business    606xx         IL   8.72          0.0   \n",
              "3              personel    917xx         CA  20.00          0.0   \n",
              "4              Personal    972xx         OR  17.94          0.0   \n",
              "\n",
              "  earliest_cr_line  inq_last_6mths  mths_since_last_delinq  \\\n",
              "0           Jan-85             1.0                     NaN   \n",
              "1           Apr-99             5.0                     NaN   \n",
              "2           nov-01             2.0                     NaN   \n",
              "3           feb-96             1.0                    35.0   \n",
              "4           Jan-96             0.0                    38.0   \n",
              "\n",
              "   mths_since_last_record  open_acc  pub_rec  revol_bal  revol_util  \\\n",
              "0                     NaN       3.0      0.0      13648        83.7   \n",
              "1                     NaN       3.0      0.0       1687         9.4   \n",
              "2                     NaN       2.0      0.0       2956        98.5   \n",
              "3                     NaN      10.0      0.0       5598        21.0   \n",
              "4                     NaN      15.0      0.0      27783        53.9   \n",
              "\n",
              "   total_acc initial_list_status  out_prncp  out_prncp_inv   total_pymnt  \\\n",
              "0        9.0                   f        0.0            0.0   5861.071414   \n",
              "1        4.0                   f        0.0            0.0   1008.710000   \n",
              "2       10.0                   f        0.0            0.0   3003.653644   \n",
              "3       37.0                   f        0.0            0.0  12226.302210   \n",
              "4       38.0                   f      766.9          766.9   3242.170000   \n",
              "\n",
              "   total_pymnt_inv  total_rec_prncp  total_rec_int  total_rec_late_fee  \\\n",
              "0          5831.78          5000.00         861.07                0.00   \n",
              "1          1008.71           456.46         435.17                0.00   \n",
              "2          3003.65          2400.00         603.65                0.00   \n",
              "3         12226.30         10000.00        2209.33               16.97   \n",
              "4          3242.17          2233.10        1009.07                0.00   \n",
              "\n",
              "   recoveries  collection_recovery_fee last_pymnt_d  last_pymnt_amnt  \\\n",
              "0        0.00                     0.00       Jan-15           171.62   \n",
              "1      117.08                     1.11       Apr-13           119.66   \n",
              "2        0.00                     0.00       jun-14           649.91   \n",
              "3        0.00                     0.00       Jan-15           357.48   \n",
              "4        0.00                     0.00       Jan-16            67.79   \n",
              "\n",
              "  next_pymnt_d last_credit_pull_d  collections_12_mths_ex_med  \\\n",
              "0          NaN             Jan-16                         0.0   \n",
              "1          NaN             sep-13                         0.0   \n",
              "2          NaN             Jan-16                         0.0   \n",
              "3          NaN             Jan-15                         0.0   \n",
              "4       feb-16             Jan-16                         0.0   \n",
              "\n",
              "   mths_since_last_major_derog  policy_code application_type  \\\n",
              "0                          NaN            1       INDIVIDUAL   \n",
              "1                          NaN            1       INDIVIDUAL   \n",
              "2                          NaN            1       INDIVIDUAL   \n",
              "3                          NaN            1       INDIVIDUAL   \n",
              "4                          NaN            1       INDIVIDUAL   \n",
              "\n",
              "   annual_inc_joint  dti_joint  verification_status_joint  acc_now_delinq  \\\n",
              "0               NaN        NaN                        NaN             0.0   \n",
              "1               NaN        NaN                        NaN             0.0   \n",
              "2               NaN        NaN                        NaN             0.0   \n",
              "3               NaN        NaN                        NaN             0.0   \n",
              "4               NaN        NaN                        NaN             0.0   \n",
              "\n",
              "   tot_coll_amt  tot_cur_bal  open_acc_6m  open_il_6m  open_il_12m  \\\n",
              "0           NaN          NaN          NaN         NaN          NaN   \n",
              "1           NaN          NaN          NaN         NaN          NaN   \n",
              "2           NaN          NaN          NaN         NaN          NaN   \n",
              "3           NaN          NaN          NaN         NaN          NaN   \n",
              "4           NaN          NaN          NaN         NaN          NaN   \n",
              "\n",
              "   open_il_24m  mths_since_rcnt_il  total_bal_il  il_util  open_rv_12m  \\\n",
              "0          NaN                 NaN           NaN      NaN          NaN   \n",
              "1          NaN                 NaN           NaN      NaN          NaN   \n",
              "2          NaN                 NaN           NaN      NaN          NaN   \n",
              "3          NaN                 NaN           NaN      NaN          NaN   \n",
              "4          NaN                 NaN           NaN      NaN          NaN   \n",
              "\n",
              "   open_rv_24m  max_bal_bc  all_util  total_rev_hi_lim  inq_fi  total_cu_tl  \\\n",
              "0          NaN         NaN       NaN               NaN     NaN          NaN   \n",
              "1          NaN         NaN       NaN               NaN     NaN          NaN   \n",
              "2          NaN         NaN       NaN               NaN     NaN          NaN   \n",
              "3          NaN         NaN       NaN               NaN     NaN          NaN   \n",
              "4          NaN         NaN       NaN               NaN     NaN          NaN   \n",
              "\n",
              "   inq_last_12m  \n",
              "0           NaN  \n",
              "1           NaN  \n",
              "2           NaN  \n",
              "3           NaN  \n",
              "4           NaN  "
            ],
            "text/html": [
              "\n",
              "  <div id=\"df-1d4ad2bc-f552-4871-888c-4af4a063bdbb\" class=\"colab-df-container\">\n",
              "    <div>\n",
              "<style scoped>\n",
              "    .dataframe tbody tr th:only-of-type {\n",
              "        vertical-align: middle;\n",
              "    }\n",
              "\n",
              "    .dataframe tbody tr th {\n",
              "        vertical-align: top;\n",
              "    }\n",
              "\n",
              "    .dataframe thead th {\n",
              "        text-align: right;\n",
              "    }\n",
              "</style>\n",
              "<table border=\"1\" class=\"dataframe\">\n",
              "  <thead>\n",
              "    <tr style=\"text-align: right;\">\n",
              "      <th></th>\n",
              "      <th>Unnamed: 0</th>\n",
              "      <th>id</th>\n",
              "      <th>member_id</th>\n",
              "      <th>loan_amnt</th>\n",
              "      <th>funded_amnt</th>\n",
              "      <th>funded_amnt_inv</th>\n",
              "      <th>term</th>\n",
              "      <th>int_rate</th>\n",
              "      <th>installment</th>\n",
              "      <th>grade</th>\n",
              "      <th>sub_grade</th>\n",
              "      <th>emp_title</th>\n",
              "      <th>emp_length</th>\n",
              "      <th>home_ownership</th>\n",
              "      <th>annual_inc</th>\n",
              "      <th>verification_status</th>\n",
              "      <th>issue_d</th>\n",
              "      <th>loan_status</th>\n",
              "      <th>pymnt_plan</th>\n",
              "      <th>url</th>\n",
              "      <th>desc</th>\n",
              "      <th>purpose</th>\n",
              "      <th>title</th>\n",
              "      <th>zip_code</th>\n",
              "      <th>addr_state</th>\n",
              "      <th>dti</th>\n",
              "      <th>delinq_2yrs</th>\n",
              "      <th>earliest_cr_line</th>\n",
              "      <th>inq_last_6mths</th>\n",
              "      <th>mths_since_last_delinq</th>\n",
              "      <th>mths_since_last_record</th>\n",
              "      <th>open_acc</th>\n",
              "      <th>pub_rec</th>\n",
              "      <th>revol_bal</th>\n",
              "      <th>revol_util</th>\n",
              "      <th>total_acc</th>\n",
              "      <th>initial_list_status</th>\n",
              "      <th>out_prncp</th>\n",
              "      <th>out_prncp_inv</th>\n",
              "      <th>total_pymnt</th>\n",
              "      <th>total_pymnt_inv</th>\n",
              "      <th>total_rec_prncp</th>\n",
              "      <th>total_rec_int</th>\n",
              "      <th>total_rec_late_fee</th>\n",
              "      <th>recoveries</th>\n",
              "      <th>collection_recovery_fee</th>\n",
              "      <th>last_pymnt_d</th>\n",
              "      <th>last_pymnt_amnt</th>\n",
              "      <th>next_pymnt_d</th>\n",
              "      <th>last_credit_pull_d</th>\n",
              "      <th>collections_12_mths_ex_med</th>\n",
              "      <th>mths_since_last_major_derog</th>\n",
              "      <th>policy_code</th>\n",
              "      <th>application_type</th>\n",
              "      <th>annual_inc_joint</th>\n",
              "      <th>dti_joint</th>\n",
              "      <th>verification_status_joint</th>\n",
              "      <th>acc_now_delinq</th>\n",
              "      <th>tot_coll_amt</th>\n",
              "      <th>tot_cur_bal</th>\n",
              "      <th>open_acc_6m</th>\n",
              "      <th>open_il_6m</th>\n",
              "      <th>open_il_12m</th>\n",
              "      <th>open_il_24m</th>\n",
              "      <th>mths_since_rcnt_il</th>\n",
              "      <th>total_bal_il</th>\n",
              "      <th>il_util</th>\n",
              "      <th>open_rv_12m</th>\n",
              "      <th>open_rv_24m</th>\n",
              "      <th>max_bal_bc</th>\n",
              "      <th>all_util</th>\n",
              "      <th>total_rev_hi_lim</th>\n",
              "      <th>inq_fi</th>\n",
              "      <th>total_cu_tl</th>\n",
              "      <th>inq_last_12m</th>\n",
              "    </tr>\n",
              "  </thead>\n",
              "  <tbody>\n",
              "    <tr>\n",
              "      <th>0</th>\n",
              "      <td>0</td>\n",
              "      <td>1077501</td>\n",
              "      <td>1296599</td>\n",
              "      <td>5000</td>\n",
              "      <td>5000</td>\n",
              "      <td>4975.0</td>\n",
              "      <td>36 months</td>\n",
              "      <td>10.65</td>\n",
              "      <td>162.87</td>\n",
              "      <td>B</td>\n",
              "      <td>B2</td>\n",
              "      <td>NaN</td>\n",
              "      <td>10+ years</td>\n",
              "      <td>RENT</td>\n",
              "      <td>24000.0</td>\n",
              "      <td>Verified</td>\n",
              "      <td>Dec-11</td>\n",
              "      <td>Fully Paid</td>\n",
              "      <td>n</td>\n",
              "      <td>https://www.lendingclub.com/browse/loanDetail....</td>\n",
              "      <td>Borrower added on 12/22/11 &gt; I need to upgra...</td>\n",
              "      <td>credit_card</td>\n",
              "      <td>Computer</td>\n",
              "      <td>860xx</td>\n",
              "      <td>AZ</td>\n",
              "      <td>27.65</td>\n",
              "      <td>0.0</td>\n",
              "      <td>Jan-85</td>\n",
              "      <td>1.0</td>\n",
              "      <td>NaN</td>\n",
              "      <td>NaN</td>\n",
              "      <td>3.0</td>\n",
              "      <td>0.0</td>\n",
              "      <td>13648</td>\n",
              "      <td>83.7</td>\n",
              "      <td>9.0</td>\n",
              "      <td>f</td>\n",
              "      <td>0.0</td>\n",
              "      <td>0.0</td>\n",
              "      <td>5861.071414</td>\n",
              "      <td>5831.78</td>\n",
              "      <td>5000.00</td>\n",
              "      <td>861.07</td>\n",
              "      <td>0.00</td>\n",
              "      <td>0.00</td>\n",
              "      <td>0.00</td>\n",
              "      <td>Jan-15</td>\n",
              "      <td>171.62</td>\n",
              "      <td>NaN</td>\n",
              "      <td>Jan-16</td>\n",
              "      <td>0.0</td>\n",
              "      <td>NaN</td>\n",
              "      <td>1</td>\n",
              "      <td>INDIVIDUAL</td>\n",
              "      <td>NaN</td>\n",
              "      <td>NaN</td>\n",
              "      <td>NaN</td>\n",
              "      <td>0.0</td>\n",
              "      <td>NaN</td>\n",
              "      <td>NaN</td>\n",
              "      <td>NaN</td>\n",
              "      <td>NaN</td>\n",
              "      <td>NaN</td>\n",
              "      <td>NaN</td>\n",
              "      <td>NaN</td>\n",
              "      <td>NaN</td>\n",
              "      <td>NaN</td>\n",
              "      <td>NaN</td>\n",
              "      <td>NaN</td>\n",
              "      <td>NaN</td>\n",
              "      <td>NaN</td>\n",
              "      <td>NaN</td>\n",
              "      <td>NaN</td>\n",
              "      <td>NaN</td>\n",
              "      <td>NaN</td>\n",
              "    </tr>\n",
              "    <tr>\n",
              "      <th>1</th>\n",
              "      <td>1</td>\n",
              "      <td>1077430</td>\n",
              "      <td>1314167</td>\n",
              "      <td>2500</td>\n",
              "      <td>2500</td>\n",
              "      <td>2500.0</td>\n",
              "      <td>60 months</td>\n",
              "      <td>15.27</td>\n",
              "      <td>59.83</td>\n",
              "      <td>C</td>\n",
              "      <td>C4</td>\n",
              "      <td>Ryder</td>\n",
              "      <td>&lt; 1 year</td>\n",
              "      <td>RENT</td>\n",
              "      <td>30000.0</td>\n",
              "      <td>Source Verified</td>\n",
              "      <td>Dec-11</td>\n",
              "      <td>Charged Off</td>\n",
              "      <td>n</td>\n",
              "      <td>https://www.lendingclub.com/browse/loanDetail....</td>\n",
              "      <td>Borrower added on 12/22/11 &gt; I plan to use t...</td>\n",
              "      <td>car</td>\n",
              "      <td>bike</td>\n",
              "      <td>309xx</td>\n",
              "      <td>GA</td>\n",
              "      <td>1.00</td>\n",
              "      <td>0.0</td>\n",
              "      <td>Apr-99</td>\n",
              "      <td>5.0</td>\n",
              "      <td>NaN</td>\n",
              "      <td>NaN</td>\n",
              "      <td>3.0</td>\n",
              "      <td>0.0</td>\n",
              "      <td>1687</td>\n",
              "      <td>9.4</td>\n",
              "      <td>4.0</td>\n",
              "      <td>f</td>\n",
              "      <td>0.0</td>\n",
              "      <td>0.0</td>\n",
              "      <td>1008.710000</td>\n",
              "      <td>1008.71</td>\n",
              "      <td>456.46</td>\n",
              "      <td>435.17</td>\n",
              "      <td>0.00</td>\n",
              "      <td>117.08</td>\n",
              "      <td>1.11</td>\n",
              "      <td>Apr-13</td>\n",
              "      <td>119.66</td>\n",
              "      <td>NaN</td>\n",
              "      <td>sep-13</td>\n",
              "      <td>0.0</td>\n",
              "      <td>NaN</td>\n",
              "      <td>1</td>\n",
              "      <td>INDIVIDUAL</td>\n",
              "      <td>NaN</td>\n",
              "      <td>NaN</td>\n",
              "      <td>NaN</td>\n",
              "      <td>0.0</td>\n",
              "      <td>NaN</td>\n",
              "      <td>NaN</td>\n",
              "      <td>NaN</td>\n",
              "      <td>NaN</td>\n",
              "      <td>NaN</td>\n",
              "      <td>NaN</td>\n",
              "      <td>NaN</td>\n",
              "      <td>NaN</td>\n",
              "      <td>NaN</td>\n",
              "      <td>NaN</td>\n",
              "      <td>NaN</td>\n",
              "      <td>NaN</td>\n",
              "      <td>NaN</td>\n",
              "      <td>NaN</td>\n",
              "      <td>NaN</td>\n",
              "      <td>NaN</td>\n",
              "      <td>NaN</td>\n",
              "    </tr>\n",
              "    <tr>\n",
              "      <th>2</th>\n",
              "      <td>2</td>\n",
              "      <td>1077175</td>\n",
              "      <td>1313524</td>\n",
              "      <td>2400</td>\n",
              "      <td>2400</td>\n",
              "      <td>2400.0</td>\n",
              "      <td>36 months</td>\n",
              "      <td>15.96</td>\n",
              "      <td>84.33</td>\n",
              "      <td>C</td>\n",
              "      <td>C5</td>\n",
              "      <td>NaN</td>\n",
              "      <td>10+ years</td>\n",
              "      <td>RENT</td>\n",
              "      <td>12252.0</td>\n",
              "      <td>Not Verified</td>\n",
              "      <td>Dec-11</td>\n",
              "      <td>Fully Paid</td>\n",
              "      <td>n</td>\n",
              "      <td>https://www.lendingclub.com/browse/loanDetail....</td>\n",
              "      <td>NaN</td>\n",
              "      <td>small_business</td>\n",
              "      <td>real estate business</td>\n",
              "      <td>606xx</td>\n",
              "      <td>IL</td>\n",
              "      <td>8.72</td>\n",
              "      <td>0.0</td>\n",
              "      <td>nov-01</td>\n",
              "      <td>2.0</td>\n",
              "      <td>NaN</td>\n",
              "      <td>NaN</td>\n",
              "      <td>2.0</td>\n",
              "      <td>0.0</td>\n",
              "      <td>2956</td>\n",
              "      <td>98.5</td>\n",
              "      <td>10.0</td>\n",
              "      <td>f</td>\n",
              "      <td>0.0</td>\n",
              "      <td>0.0</td>\n",
              "      <td>3003.653644</td>\n",
              "      <td>3003.65</td>\n",
              "      <td>2400.00</td>\n",
              "      <td>603.65</td>\n",
              "      <td>0.00</td>\n",
              "      <td>0.00</td>\n",
              "      <td>0.00</td>\n",
              "      <td>jun-14</td>\n",
              "      <td>649.91</td>\n",
              "      <td>NaN</td>\n",
              "      <td>Jan-16</td>\n",
              "      <td>0.0</td>\n",
              "      <td>NaN</td>\n",
              "      <td>1</td>\n",
              "      <td>INDIVIDUAL</td>\n",
              "      <td>NaN</td>\n",
              "      <td>NaN</td>\n",
              "      <td>NaN</td>\n",
              "      <td>0.0</td>\n",
              "      <td>NaN</td>\n",
              "      <td>NaN</td>\n",
              "      <td>NaN</td>\n",
              "      <td>NaN</td>\n",
              "      <td>NaN</td>\n",
              "      <td>NaN</td>\n",
              "      <td>NaN</td>\n",
              "      <td>NaN</td>\n",
              "      <td>NaN</td>\n",
              "      <td>NaN</td>\n",
              "      <td>NaN</td>\n",
              "      <td>NaN</td>\n",
              "      <td>NaN</td>\n",
              "      <td>NaN</td>\n",
              "      <td>NaN</td>\n",
              "      <td>NaN</td>\n",
              "      <td>NaN</td>\n",
              "    </tr>\n",
              "    <tr>\n",
              "      <th>3</th>\n",
              "      <td>3</td>\n",
              "      <td>1076863</td>\n",
              "      <td>1277178</td>\n",
              "      <td>10000</td>\n",
              "      <td>10000</td>\n",
              "      <td>10000.0</td>\n",
              "      <td>36 months</td>\n",
              "      <td>13.49</td>\n",
              "      <td>339.31</td>\n",
              "      <td>C</td>\n",
              "      <td>C1</td>\n",
              "      <td>AIR RESOURCES BOARD</td>\n",
              "      <td>10+ years</td>\n",
              "      <td>RENT</td>\n",
              "      <td>49200.0</td>\n",
              "      <td>Source Verified</td>\n",
              "      <td>Dec-11</td>\n",
              "      <td>Fully Paid</td>\n",
              "      <td>n</td>\n",
              "      <td>https://www.lendingclub.com/browse/loanDetail....</td>\n",
              "      <td>Borrower added on 12/21/11 &gt; to pay for prop...</td>\n",
              "      <td>other</td>\n",
              "      <td>personel</td>\n",
              "      <td>917xx</td>\n",
              "      <td>CA</td>\n",
              "      <td>20.00</td>\n",
              "      <td>0.0</td>\n",
              "      <td>feb-96</td>\n",
              "      <td>1.0</td>\n",
              "      <td>35.0</td>\n",
              "      <td>NaN</td>\n",
              "      <td>10.0</td>\n",
              "      <td>0.0</td>\n",
              "      <td>5598</td>\n",
              "      <td>21.0</td>\n",
              "      <td>37.0</td>\n",
              "      <td>f</td>\n",
              "      <td>0.0</td>\n",
              "      <td>0.0</td>\n",
              "      <td>12226.302210</td>\n",
              "      <td>12226.30</td>\n",
              "      <td>10000.00</td>\n",
              "      <td>2209.33</td>\n",
              "      <td>16.97</td>\n",
              "      <td>0.00</td>\n",
              "      <td>0.00</td>\n",
              "      <td>Jan-15</td>\n",
              "      <td>357.48</td>\n",
              "      <td>NaN</td>\n",
              "      <td>Jan-15</td>\n",
              "      <td>0.0</td>\n",
              "      <td>NaN</td>\n",
              "      <td>1</td>\n",
              "      <td>INDIVIDUAL</td>\n",
              "      <td>NaN</td>\n",
              "      <td>NaN</td>\n",
              "      <td>NaN</td>\n",
              "      <td>0.0</td>\n",
              "      <td>NaN</td>\n",
              "      <td>NaN</td>\n",
              "      <td>NaN</td>\n",
              "      <td>NaN</td>\n",
              "      <td>NaN</td>\n",
              "      <td>NaN</td>\n",
              "      <td>NaN</td>\n",
              "      <td>NaN</td>\n",
              "      <td>NaN</td>\n",
              "      <td>NaN</td>\n",
              "      <td>NaN</td>\n",
              "      <td>NaN</td>\n",
              "      <td>NaN</td>\n",
              "      <td>NaN</td>\n",
              "      <td>NaN</td>\n",
              "      <td>NaN</td>\n",
              "      <td>NaN</td>\n",
              "    </tr>\n",
              "    <tr>\n",
              "      <th>4</th>\n",
              "      <td>4</td>\n",
              "      <td>1075358</td>\n",
              "      <td>1311748</td>\n",
              "      <td>3000</td>\n",
              "      <td>3000</td>\n",
              "      <td>3000.0</td>\n",
              "      <td>60 months</td>\n",
              "      <td>12.69</td>\n",
              "      <td>67.79</td>\n",
              "      <td>B</td>\n",
              "      <td>B5</td>\n",
              "      <td>University Medical Group</td>\n",
              "      <td>1 year</td>\n",
              "      <td>RENT</td>\n",
              "      <td>80000.0</td>\n",
              "      <td>Source Verified</td>\n",
              "      <td>Dec-11</td>\n",
              "      <td>Current</td>\n",
              "      <td>n</td>\n",
              "      <td>https://www.lendingclub.com/browse/loanDetail....</td>\n",
              "      <td>Borrower added on 12/21/11 &gt; I plan on combi...</td>\n",
              "      <td>other</td>\n",
              "      <td>Personal</td>\n",
              "      <td>972xx</td>\n",
              "      <td>OR</td>\n",
              "      <td>17.94</td>\n",
              "      <td>0.0</td>\n",
              "      <td>Jan-96</td>\n",
              "      <td>0.0</td>\n",
              "      <td>38.0</td>\n",
              "      <td>NaN</td>\n",
              "      <td>15.0</td>\n",
              "      <td>0.0</td>\n",
              "      <td>27783</td>\n",
              "      <td>53.9</td>\n",
              "      <td>38.0</td>\n",
              "      <td>f</td>\n",
              "      <td>766.9</td>\n",
              "      <td>766.9</td>\n",
              "      <td>3242.170000</td>\n",
              "      <td>3242.17</td>\n",
              "      <td>2233.10</td>\n",
              "      <td>1009.07</td>\n",
              "      <td>0.00</td>\n",
              "      <td>0.00</td>\n",
              "      <td>0.00</td>\n",
              "      <td>Jan-16</td>\n",
              "      <td>67.79</td>\n",
              "      <td>feb-16</td>\n",
              "      <td>Jan-16</td>\n",
              "      <td>0.0</td>\n",
              "      <td>NaN</td>\n",
              "      <td>1</td>\n",
              "      <td>INDIVIDUAL</td>\n",
              "      <td>NaN</td>\n",
              "      <td>NaN</td>\n",
              "      <td>NaN</td>\n",
              "      <td>0.0</td>\n",
              "      <td>NaN</td>\n",
              "      <td>NaN</td>\n",
              "      <td>NaN</td>\n",
              "      <td>NaN</td>\n",
              "      <td>NaN</td>\n",
              "      <td>NaN</td>\n",
              "      <td>NaN</td>\n",
              "      <td>NaN</td>\n",
              "      <td>NaN</td>\n",
              "      <td>NaN</td>\n",
              "      <td>NaN</td>\n",
              "      <td>NaN</td>\n",
              "      <td>NaN</td>\n",
              "      <td>NaN</td>\n",
              "      <td>NaN</td>\n",
              "      <td>NaN</td>\n",
              "      <td>NaN</td>\n",
              "    </tr>\n",
              "  </tbody>\n",
              "</table>\n",
              "</div>\n",
              "    <div class=\"colab-df-buttons\">\n",
              "\n",
              "  <div class=\"colab-df-container\">\n",
              "    <button class=\"colab-df-convert\" onclick=\"convertToInteractive('df-1d4ad2bc-f552-4871-888c-4af4a063bdbb')\"\n",
              "            title=\"Convert this dataframe to an interactive table.\"\n",
              "            style=\"display:none;\">\n",
              "\n",
              "  <svg xmlns=\"http://www.w3.org/2000/svg\" height=\"24px\" viewBox=\"0 -960 960 960\">\n",
              "    <path d=\"M120-120v-720h720v720H120Zm60-500h600v-160H180v160Zm220 220h160v-160H400v160Zm0 220h160v-160H400v160ZM180-400h160v-160H180v160Zm440 0h160v-160H620v160ZM180-180h160v-160H180v160Zm440 0h160v-160H620v160Z\"/>\n",
              "  </svg>\n",
              "    </button>\n",
              "\n",
              "  <style>\n",
              "    .colab-df-container {\n",
              "      display:flex;\n",
              "      gap: 12px;\n",
              "    }\n",
              "\n",
              "    .colab-df-convert {\n",
              "      background-color: #E8F0FE;\n",
              "      border: none;\n",
              "      border-radius: 50%;\n",
              "      cursor: pointer;\n",
              "      display: none;\n",
              "      fill: #1967D2;\n",
              "      height: 32px;\n",
              "      padding: 0 0 0 0;\n",
              "      width: 32px;\n",
              "    }\n",
              "\n",
              "    .colab-df-convert:hover {\n",
              "      background-color: #E2EBFA;\n",
              "      box-shadow: 0px 1px 2px rgba(60, 64, 67, 0.3), 0px 1px 3px 1px rgba(60, 64, 67, 0.15);\n",
              "      fill: #174EA6;\n",
              "    }\n",
              "\n",
              "    .colab-df-buttons div {\n",
              "      margin-bottom: 4px;\n",
              "    }\n",
              "\n",
              "    [theme=dark] .colab-df-convert {\n",
              "      background-color: #3B4455;\n",
              "      fill: #D2E3FC;\n",
              "    }\n",
              "\n",
              "    [theme=dark] .colab-df-convert:hover {\n",
              "      background-color: #434B5C;\n",
              "      box-shadow: 0px 1px 3px 1px rgba(0, 0, 0, 0.15);\n",
              "      filter: drop-shadow(0px 1px 2px rgba(0, 0, 0, 0.3));\n",
              "      fill: #FFFFFF;\n",
              "    }\n",
              "  </style>\n",
              "\n",
              "    <script>\n",
              "      const buttonEl =\n",
              "        document.querySelector('#df-1d4ad2bc-f552-4871-888c-4af4a063bdbb button.colab-df-convert');\n",
              "      buttonEl.style.display =\n",
              "        google.colab.kernel.accessAllowed ? 'block' : 'none';\n",
              "\n",
              "      async function convertToInteractive(key) {\n",
              "        const element = document.querySelector('#df-1d4ad2bc-f552-4871-888c-4af4a063bdbb');\n",
              "        const dataTable =\n",
              "          await google.colab.kernel.invokeFunction('convertToInteractive',\n",
              "                                                    [key], {});\n",
              "        if (!dataTable) return;\n",
              "\n",
              "        const docLinkHtml = 'Like what you see? Visit the ' +\n",
              "          '<a target=\"_blank\" href=https://colab.research.google.com/notebooks/data_table.ipynb>data table notebook</a>'\n",
              "          + ' to learn more about interactive tables.';\n",
              "        element.innerHTML = '';\n",
              "        dataTable['output_type'] = 'display_data';\n",
              "        await google.colab.output.renderOutput(dataTable, element);\n",
              "        const docLink = document.createElement('div');\n",
              "        docLink.innerHTML = docLinkHtml;\n",
              "        element.appendChild(docLink);\n",
              "      }\n",
              "    </script>\n",
              "  </div>\n",
              "\n",
              "\n",
              "<div id=\"df-f2662c9c-2387-4524-b3d0-8a8215d694c2\">\n",
              "  <button class=\"colab-df-quickchart\" onclick=\"quickchart('df-f2662c9c-2387-4524-b3d0-8a8215d694c2')\"\n",
              "            title=\"Suggest charts\"\n",
              "            style=\"display:none;\">\n",
              "\n",
              "<svg xmlns=\"http://www.w3.org/2000/svg\" height=\"24px\"viewBox=\"0 0 24 24\"\n",
              "     width=\"24px\">\n",
              "    <g>\n",
              "        <path d=\"M19 3H5c-1.1 0-2 .9-2 2v14c0 1.1.9 2 2 2h14c1.1 0 2-.9 2-2V5c0-1.1-.9-2-2-2zM9 17H7v-7h2v7zm4 0h-2V7h2v10zm4 0h-2v-4h2v4z\"/>\n",
              "    </g>\n",
              "</svg>\n",
              "  </button>\n",
              "\n",
              "<style>\n",
              "  .colab-df-quickchart {\n",
              "      --bg-color: #E8F0FE;\n",
              "      --fill-color: #1967D2;\n",
              "      --hover-bg-color: #E2EBFA;\n",
              "      --hover-fill-color: #174EA6;\n",
              "      --disabled-fill-color: #AAA;\n",
              "      --disabled-bg-color: #DDD;\n",
              "  }\n",
              "\n",
              "  [theme=dark] .colab-df-quickchart {\n",
              "      --bg-color: #3B4455;\n",
              "      --fill-color: #D2E3FC;\n",
              "      --hover-bg-color: #434B5C;\n",
              "      --hover-fill-color: #FFFFFF;\n",
              "      --disabled-bg-color: #3B4455;\n",
              "      --disabled-fill-color: #666;\n",
              "  }\n",
              "\n",
              "  .colab-df-quickchart {\n",
              "    background-color: var(--bg-color);\n",
              "    border: none;\n",
              "    border-radius: 50%;\n",
              "    cursor: pointer;\n",
              "    display: none;\n",
              "    fill: var(--fill-color);\n",
              "    height: 32px;\n",
              "    padding: 0;\n",
              "    width: 32px;\n",
              "  }\n",
              "\n",
              "  .colab-df-quickchart:hover {\n",
              "    background-color: var(--hover-bg-color);\n",
              "    box-shadow: 0 1px 2px rgba(60, 64, 67, 0.3), 0 1px 3px 1px rgba(60, 64, 67, 0.15);\n",
              "    fill: var(--button-hover-fill-color);\n",
              "  }\n",
              "\n",
              "  .colab-df-quickchart-complete:disabled,\n",
              "  .colab-df-quickchart-complete:disabled:hover {\n",
              "    background-color: var(--disabled-bg-color);\n",
              "    fill: var(--disabled-fill-color);\n",
              "    box-shadow: none;\n",
              "  }\n",
              "\n",
              "  .colab-df-spinner {\n",
              "    border: 2px solid var(--fill-color);\n",
              "    border-color: transparent;\n",
              "    border-bottom-color: var(--fill-color);\n",
              "    animation:\n",
              "      spin 1s steps(1) infinite;\n",
              "  }\n",
              "\n",
              "  @keyframes spin {\n",
              "    0% {\n",
              "      border-color: transparent;\n",
              "      border-bottom-color: var(--fill-color);\n",
              "      border-left-color: var(--fill-color);\n",
              "    }\n",
              "    20% {\n",
              "      border-color: transparent;\n",
              "      border-left-color: var(--fill-color);\n",
              "      border-top-color: var(--fill-color);\n",
              "    }\n",
              "    30% {\n",
              "      border-color: transparent;\n",
              "      border-left-color: var(--fill-color);\n",
              "      border-top-color: var(--fill-color);\n",
              "      border-right-color: var(--fill-color);\n",
              "    }\n",
              "    40% {\n",
              "      border-color: transparent;\n",
              "      border-right-color: var(--fill-color);\n",
              "      border-top-color: var(--fill-color);\n",
              "    }\n",
              "    60% {\n",
              "      border-color: transparent;\n",
              "      border-right-color: var(--fill-color);\n",
              "    }\n",
              "    80% {\n",
              "      border-color: transparent;\n",
              "      border-right-color: var(--fill-color);\n",
              "      border-bottom-color: var(--fill-color);\n",
              "    }\n",
              "    90% {\n",
              "      border-color: transparent;\n",
              "      border-bottom-color: var(--fill-color);\n",
              "    }\n",
              "  }\n",
              "</style>\n",
              "\n",
              "  <script>\n",
              "    async function quickchart(key) {\n",
              "      const quickchartButtonEl =\n",
              "        document.querySelector('#' + key + ' button');\n",
              "      quickchartButtonEl.disabled = true;  // To prevent multiple clicks.\n",
              "      quickchartButtonEl.classList.add('colab-df-spinner');\n",
              "      try {\n",
              "        const charts = await google.colab.kernel.invokeFunction(\n",
              "            'suggestCharts', [key], {});\n",
              "      } catch (error) {\n",
              "        console.error('Error during call to suggestCharts:', error);\n",
              "      }\n",
              "      quickchartButtonEl.classList.remove('colab-df-spinner');\n",
              "      quickchartButtonEl.classList.add('colab-df-quickchart-complete');\n",
              "    }\n",
              "    (() => {\n",
              "      let quickchartButtonEl =\n",
              "        document.querySelector('#df-f2662c9c-2387-4524-b3d0-8a8215d694c2 button');\n",
              "      quickchartButtonEl.style.display =\n",
              "        google.colab.kernel.accessAllowed ? 'block' : 'none';\n",
              "    })();\n",
              "  </script>\n",
              "</div>\n",
              "\n",
              "    </div>\n",
              "  </div>\n"
            ],
            "application/vnd.google.colaboratory.intrinsic+json": {
              "type": "dataframe",
              "variable_name": "datos"
            }
          },
          "metadata": {},
          "execution_count": 8
        }
      ]
    },
    {
      "cell_type": "code",
      "source": [
        "# Automatiación del Preprocesamiento de Variables Categóricas\n",
        "def PdE_categorica(df, var_categorica, df_var_dependiente):\n",
        "    df = pd.concat([df[var_categorica], df_var_dependiente], axis=1)\n",
        "    df = pd.concat(\n",
        "        [\n",
        "            df.groupby(df.columns.values[0], as_index=False)[df.columns.values[1]].count(),\n",
        "            df.groupby(df.columns.values[0], as_index=False)[df.columns.values[1]].mean()\n",
        "        ],\n",
        "        axis=1\n",
        "    )\n",
        "    df = df.iloc[:, [0, 1, 3]]\n",
        "    df.columns = [df.columns.values[0], 'observaciones', 'prop_bueno']\n",
        "    df['proporcion_obs'] = df['observaciones'] / df['observaciones'].sum()\n",
        "    df['n_buenos'] = df['prop_bueno'] * df['observaciones']\n",
        "    df['n_malos'] = (1 - df['prop_bueno']) * df['observaciones']\n",
        "    df['prop_n_buenos'] = df['n_buenos'] / df['n_buenos'].sum()\n",
        "    df['prop_n_malos'] = df['n_malos'] / df['n_malos'].sum()\n",
        "    df['PdE'] = np.log(df['prop_n_buenos'] / df['prop_n_malos'])\n",
        "    df = df.sort_values(['PdE'])\n",
        "    df = df.reset_index(drop=True)\n",
        "    df['delta_prop_n_buenos'] = df['prop_n_buenos'].diff().abs()\n",
        "    df['delta_PdE'] = df['PdE'].diff().abs()  # Diferencia absoluta entre categorías\n",
        "    df['VI'] = (df['prop_n_buenos'] - df['prop_n_malos']) * df['PdE']\n",
        "    df.replace([np.inf, -np.inf], np.nan, inplace=True)\n",
        "    df['sumatoriaVI'] = df['VI'].sum()\n",
        "    return df"
      ],
      "metadata": {
        "id": "aTQd3IBdhYmv"
      },
      "execution_count": null,
      "outputs": []
    },
    {
      "cell_type": "code",
      "source": [
        "PdE_categorica()"
      ],
      "metadata": {
        "id": "DUl5wYjvqTu7"
      },
      "execution_count": null,
      "outputs": []
    },
    {
      "cell_type": "code",
      "source": [
        "import numpy as np\n",
        "import matplotlib.pyplot as plt\n",
        "\n",
        "n_simulaciones = 10000\n",
        "ingresos = np.random.normal(50000, 5000, n_simulaciones)\n",
        "costos = np.random.normal(30000, 3000, n_simulaciones)\n",
        "ganancias = ingresos - costos\n",
        "\n",
        "print(\"Ganancia promedio:\", np.mean(ganancias))\n",
        "print(\"Ganancia mínima:\", np.min(ganancias))\n",
        "print(\"Ganancia máxima:\", np.max(ganancias))\n",
        "\n",
        "plt.hist(ganancias, bins=50, color='blue', alpha=0.7)\n",
        "plt.title(\"Distribución de Ganancias\")\n",
        "plt.xlabel(\"Ganancia\")\n",
        "plt.ylabel(\"Frecuencia\")\n",
        "plt.show()\n"
      ],
      "metadata": {
        "colab": {
          "base_uri": "https://localhost:8080/",
          "height": 524
        },
        "id": "susQh7ttilPg",
        "outputId": "b6196418-7384-46ae-8e51-19f735a2a898"
      },
      "execution_count": null,
      "outputs": [
        {
          "output_type": "stream",
          "name": "stdout",
          "text": [
            "Ganancia promedio: 19954.282497048385\n",
            "Ganancia mínima: -7005.918155591458\n",
            "Ganancia máxima: 40745.74978380787\n"
          ]
        },
        {
          "output_type": "display_data",
          "data": {
            "text/plain": [
              "<Figure size 640x480 with 1 Axes>"
            ],
            "image/png": "[encoded data removed]"
          },
          "metadata": {}
        }
      ]
    },
    {
      "cell_type": "code",
      "source": [
        "import numpy as np\n",
        "\n",
        "valor_portafolio = 1_000_000\n",
        "volatilidad_anual = 0.15\n",
        "horizonte = 10 / 252\n",
        "confianza = 0.95\n",
        "\n",
        "z = 1.645\n",
        "volatilidad_diaria = volatilidad_anual / np.sqrt(252)\n",
        "VaR = z * volatilidad_diaria * np.sqrt(horizonte) * valor_portafolio\n",
        "\n",
        "print(f\"El VaR a {confianza*100}% de confianza es: ${VaR:.2f}\")\n"
      ],
      "metadata": {
        "colab": {
          "base_uri": "https://localhost:8080/"
        },
        "id": "vDoEJB7CnZP7",
        "outputId": "69981180-8967-448f-ef6a-a22c2a35e878"
      },
      "execution_count": null,
      "outputs": [
        {
          "output_type": "stream",
          "name": "stdout",
          "text": [
            "El VaR a 95.0% de confianza es: $3096.40\n"
          ]
        }
      ]
    },
    {
      "cell_type": "code",
      "source": [
        "import numpy as np\n",
        "import matplotlib.pyplot as plt\n",
        "\n",
        "valor_portafolio = 1_000_000\n",
        "n_simulaciones = 10_000\n",
        "caida_mercado_media = -0.10\n",
        "desviacion_caida = 0.05\n",
        "\n",
        "caidas = np.random.normal(caida_mercado_media, desviacion_caida, n_simulaciones)\n",
        "perdidas = valor_portafolio * caidas\n",
        "\n",
        "perdida_promedio = np.mean(perdidas)\n",
        "perdida_maxima = np.percentile(perdidas, 1)\n",
        "\n",
        "print(f\"Pérdida promedio esperada: ${perdida_promedio:.2f}\")\n",
        "print(f\"Pérdida máxima en el 1% peor escenario: ${perdida_maxima:.2f}\")\n",
        "\n",
        "plt.hist(perdidas, bins=50, color='blue', alpha=0.7)\n",
        "plt.axvline(perdida_maxima, color='red', linestyle='dashed', linewidth=2, label=\"1% peor escenario\")\n",
        "plt.title(\"Distribución de pérdidas bajo estrés\")\n",
        "plt.xlabel(\"Pérdida ($)\")\n",
        "plt.ylabel(\"Frecuencia\")\n",
        "plt.legend()\n",
        "plt.show()\n"
      ],
      "metadata": {
        "colab": {
          "base_uri": "https://localhost:8080/",
          "height": 507
        },
        "id": "wjkHxYhQnkJT",
        "outputId": "7d018159-39a2-4673-cb49-065842ff0e75"
      },
      "execution_count": null,
      "outputs": [
        {
          "output_type": "stream",
          "name": "stdout",
          "text": [
            "Pérdida promedio esperada: $-99780.53\n",
            "Pérdida máxima en el 1% peor escenario: $-218514.87\n"
          ]
        },
        {
          "output_type": "display_data",
          "data": {
            "text/plain": [
              "<Figure size 640x480 with 1 Axes>"
            ],
            "image/png": "[encoded data removed]"
          },
          "metadata": {}
        }
      ]
    }
  ]
}